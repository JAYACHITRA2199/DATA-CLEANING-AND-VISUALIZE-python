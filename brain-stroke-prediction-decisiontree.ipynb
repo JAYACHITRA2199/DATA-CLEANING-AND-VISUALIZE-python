{
 "cells": [
  {
   "cell_type": "markdown",
   "id": "edb14431",
   "metadata": {
    "papermill": {
     "duration": 0.015012,
     "end_time": "2022-08-10T05:37:48.575564",
     "exception": false,
     "start_time": "2022-08-10T05:37:48.560552",
     "status": "completed"
    },
    "tags": []
   },
   "source": [
    "# <h1 style='background:#C4F1E8; border:2; border-radius: 10px; font-size:250%; font-weight: bold; color:black'><center>Brain Stroke Prediction</center></h1> \n",
    " \n",
    "<img src = \"https://www.news-medical.net/image.axd?picture=2021%2F11%2Fshutterstock_1488035675-1.jpg\" width = 500 height = 400/>\n",
    "\n",
    "A stroke is an interruption of the blood supply to any part of the brain. If blood flow was stopped for longer than a few seconds and the brain cannot get blood and oxygen, brain cells can die, and the abilities controlled by that area of the brain are lost.\n",
    "In this Notebook we will use some features to see wether we will be able to predict the stoke or not? \n",
    "<a id='top'></a>\n",
    "<div class=\"list-group\" id=\"list-tab\" role=\"tablist\">\n",
    "    \n",
    "<h1 style='background:#C4F1E8; border:0; border-radius: 10px; color:black'><center> TABLE OF CONTENTS </center></h1>\n",
    "\n",
    "### [**1. IMPORTING LIBRARIES AND LOADING DATA**](#title-one)\n",
    "\n",
    "### [**2. DATA EXPLORATION**](#title-two)\n",
    "  \n",
    "### [**3. VIZUALIZATION**](#title-four) \n",
    "    \n",
    "### [**4. DATA PREPROCESSING**](#title-five)\n",
    "\n",
    "### [**5. MODEL BUILDING**](#title-six)\n",
    "    \n",
    "<a id=\"title-one\"></a>\n",
    "<h1 style='background:#C4F1E8; border:2; border-radius: 10px; color:black'><center>IMPORTING LIBRARIES AND LOADING DATA</center></h1>"
   ]
  },
  {
   "cell_type": "code",
   "execution_count": 1,
   "id": "1704bb57",
   "metadata": {
    "_cell_guid": "b1076dfc-b9ad-4769-8c92-a6c4dae69d19",
    "_uuid": "8f2839f25d086af736a60e9eeb907d3b93b6e0e5",
    "execution": {
     "iopub.execute_input": "2022-08-10T05:37:48.602433Z",
     "iopub.status.busy": "2022-08-10T05:37:48.601399Z",
     "iopub.status.idle": "2022-08-10T05:37:50.232743Z",
     "shell.execute_reply": "2022-08-10T05:37:50.231464Z"
    },
    "papermill": {
     "duration": 1.648433,
     "end_time": "2022-08-10T05:37:50.235936",
     "exception": false,
     "start_time": "2022-08-10T05:37:48.587503",
     "status": "completed"
    },
    "tags": []
   },
   "outputs": [
    {
     "name": "stdout",
     "output_type": "stream",
     "text": [
      "/kaggle/input/full-filled-brain-stroke-dataset/full_data.csv\n",
      "/kaggle/input/full-filled-brain-stroke-dataset/full_filled_stroke_data (1).csv\n"
     ]
    }
   ],
   "source": [
    "import numpy as np \n",
    "import pandas as pd \n",
    "import os\n",
    "import matplotlib.pyplot as plt\n",
    "import seaborn as sns\n",
    "for dirname, _, filenames in os.walk('/kaggle/input'):\n",
    "    for filename in filenames:\n",
    "        print(os.path.join(dirname, filename))\n",
    "import warnings\n",
    "from collections import Counter\n",
    "warnings.filterwarnings('ignore')\n",
    "from sklearn.tree import DecisionTreeClassifier\n",
    "from sklearn.model_selection import train_test_split\n",
    "from sklearn.metrics import accuracy_score\n",
    "from sklearn.metrics import precision_score, recall_score, f1_score\n",
    "from sklearn.metrics import confusion_matrix,classification_report\n",
    "from imblearn.under_sampling import RandomUnderSampler\n",
    "from sklearn.ensemble import RandomForestClassifier\n",
    "from sklearn.model_selection import train_test_split,GridSearchCV"
   ]
  },
  {
   "cell_type": "code",
   "execution_count": 2,
   "id": "c26f4886",
   "metadata": {
    "execution": {
     "iopub.execute_input": "2022-08-10T05:37:50.262350Z",
     "iopub.status.busy": "2022-08-10T05:37:50.261911Z",
     "iopub.status.idle": "2022-08-10T05:37:50.313120Z",
     "shell.execute_reply": "2022-08-10T05:37:50.311892Z"
    },
    "papermill": {
     "duration": 0.06769,
     "end_time": "2022-08-10T05:37:50.315800",
     "exception": false,
     "start_time": "2022-08-10T05:37:50.248110",
     "status": "completed"
    },
    "tags": []
   },
   "outputs": [
    {
     "data": {
      "text/html": [
       "<div>\n",
       "<style scoped>\n",
       "    .dataframe tbody tr th:only-of-type {\n",
       "        vertical-align: middle;\n",
       "    }\n",
       "\n",
       "    .dataframe tbody tr th {\n",
       "        vertical-align: top;\n",
       "    }\n",
       "\n",
       "    .dataframe thead th {\n",
       "        text-align: right;\n",
       "    }\n",
       "</style>\n",
       "<table border=\"1\" class=\"dataframe\">\n",
       "  <thead>\n",
       "    <tr style=\"text-align: right;\">\n",
       "      <th></th>\n",
       "      <th>gender</th>\n",
       "      <th>age</th>\n",
       "      <th>hypertension</th>\n",
       "      <th>heart_disease</th>\n",
       "      <th>ever_married</th>\n",
       "      <th>work_type</th>\n",
       "      <th>Residence_type</th>\n",
       "      <th>avg_glucose_level</th>\n",
       "      <th>bmi</th>\n",
       "      <th>smoking_status</th>\n",
       "      <th>stroke</th>\n",
       "    </tr>\n",
       "  </thead>\n",
       "  <tbody>\n",
       "    <tr>\n",
       "      <th>0</th>\n",
       "      <td>Male</td>\n",
       "      <td>67.0</td>\n",
       "      <td>0</td>\n",
       "      <td>1</td>\n",
       "      <td>Yes</td>\n",
       "      <td>Private</td>\n",
       "      <td>Urban</td>\n",
       "      <td>228.69</td>\n",
       "      <td>36.6</td>\n",
       "      <td>formerly smoked</td>\n",
       "      <td>1</td>\n",
       "    </tr>\n",
       "    <tr>\n",
       "      <th>1</th>\n",
       "      <td>Male</td>\n",
       "      <td>80.0</td>\n",
       "      <td>0</td>\n",
       "      <td>1</td>\n",
       "      <td>Yes</td>\n",
       "      <td>Private</td>\n",
       "      <td>Rural</td>\n",
       "      <td>105.92</td>\n",
       "      <td>32.5</td>\n",
       "      <td>never smoked</td>\n",
       "      <td>1</td>\n",
       "    </tr>\n",
       "    <tr>\n",
       "      <th>2</th>\n",
       "      <td>Female</td>\n",
       "      <td>49.0</td>\n",
       "      <td>0</td>\n",
       "      <td>0</td>\n",
       "      <td>Yes</td>\n",
       "      <td>Private</td>\n",
       "      <td>Urban</td>\n",
       "      <td>171.23</td>\n",
       "      <td>34.4</td>\n",
       "      <td>smokes</td>\n",
       "      <td>1</td>\n",
       "    </tr>\n",
       "    <tr>\n",
       "      <th>3</th>\n",
       "      <td>Female</td>\n",
       "      <td>79.0</td>\n",
       "      <td>1</td>\n",
       "      <td>0</td>\n",
       "      <td>Yes</td>\n",
       "      <td>Self-employed</td>\n",
       "      <td>Rural</td>\n",
       "      <td>174.12</td>\n",
       "      <td>24.0</td>\n",
       "      <td>never smoked</td>\n",
       "      <td>1</td>\n",
       "    </tr>\n",
       "    <tr>\n",
       "      <th>4</th>\n",
       "      <td>Male</td>\n",
       "      <td>81.0</td>\n",
       "      <td>0</td>\n",
       "      <td>0</td>\n",
       "      <td>Yes</td>\n",
       "      <td>Private</td>\n",
       "      <td>Urban</td>\n",
       "      <td>186.21</td>\n",
       "      <td>29.0</td>\n",
       "      <td>formerly smoked</td>\n",
       "      <td>1</td>\n",
       "    </tr>\n",
       "    <tr>\n",
       "      <th>5</th>\n",
       "      <td>Male</td>\n",
       "      <td>74.0</td>\n",
       "      <td>1</td>\n",
       "      <td>1</td>\n",
       "      <td>Yes</td>\n",
       "      <td>Private</td>\n",
       "      <td>Rural</td>\n",
       "      <td>70.09</td>\n",
       "      <td>27.4</td>\n",
       "      <td>never smoked</td>\n",
       "      <td>1</td>\n",
       "    </tr>\n",
       "    <tr>\n",
       "      <th>6</th>\n",
       "      <td>Female</td>\n",
       "      <td>69.0</td>\n",
       "      <td>0</td>\n",
       "      <td>0</td>\n",
       "      <td>No</td>\n",
       "      <td>Private</td>\n",
       "      <td>Urban</td>\n",
       "      <td>94.39</td>\n",
       "      <td>22.8</td>\n",
       "      <td>never smoked</td>\n",
       "      <td>1</td>\n",
       "    </tr>\n",
       "    <tr>\n",
       "      <th>7</th>\n",
       "      <td>Female</td>\n",
       "      <td>78.0</td>\n",
       "      <td>0</td>\n",
       "      <td>0</td>\n",
       "      <td>Yes</td>\n",
       "      <td>Private</td>\n",
       "      <td>Urban</td>\n",
       "      <td>58.57</td>\n",
       "      <td>24.2</td>\n",
       "      <td>Unknown</td>\n",
       "      <td>1</td>\n",
       "    </tr>\n",
       "    <tr>\n",
       "      <th>8</th>\n",
       "      <td>Female</td>\n",
       "      <td>81.0</td>\n",
       "      <td>1</td>\n",
       "      <td>0</td>\n",
       "      <td>Yes</td>\n",
       "      <td>Private</td>\n",
       "      <td>Rural</td>\n",
       "      <td>80.43</td>\n",
       "      <td>29.7</td>\n",
       "      <td>never smoked</td>\n",
       "      <td>1</td>\n",
       "    </tr>\n",
       "    <tr>\n",
       "      <th>9</th>\n",
       "      <td>Female</td>\n",
       "      <td>61.0</td>\n",
       "      <td>0</td>\n",
       "      <td>1</td>\n",
       "      <td>Yes</td>\n",
       "      <td>Govt_job</td>\n",
       "      <td>Rural</td>\n",
       "      <td>120.46</td>\n",
       "      <td>36.8</td>\n",
       "      <td>smokes</td>\n",
       "      <td>1</td>\n",
       "    </tr>\n",
       "  </tbody>\n",
       "</table>\n",
       "</div>"
      ],
      "text/plain": [
       "   gender   age  hypertension  heart_disease ever_married      work_type  \\\n",
       "0    Male  67.0             0              1          Yes        Private   \n",
       "1    Male  80.0             0              1          Yes        Private   \n",
       "2  Female  49.0             0              0          Yes        Private   \n",
       "3  Female  79.0             1              0          Yes  Self-employed   \n",
       "4    Male  81.0             0              0          Yes        Private   \n",
       "5    Male  74.0             1              1          Yes        Private   \n",
       "6  Female  69.0             0              0           No        Private   \n",
       "7  Female  78.0             0              0          Yes        Private   \n",
       "8  Female  81.0             1              0          Yes        Private   \n",
       "9  Female  61.0             0              1          Yes       Govt_job   \n",
       "\n",
       "  Residence_type  avg_glucose_level   bmi   smoking_status  stroke  \n",
       "0          Urban             228.69  36.6  formerly smoked       1  \n",
       "1          Rural             105.92  32.5     never smoked       1  \n",
       "2          Urban             171.23  34.4           smokes       1  \n",
       "3          Rural             174.12  24.0     never smoked       1  \n",
       "4          Urban             186.21  29.0  formerly smoked       1  \n",
       "5          Rural              70.09  27.4     never smoked       1  \n",
       "6          Urban              94.39  22.8     never smoked       1  \n",
       "7          Urban              58.57  24.2          Unknown       1  \n",
       "8          Rural              80.43  29.7     never smoked       1  \n",
       "9          Rural             120.46  36.8           smokes       1  "
      ]
     },
     "execution_count": 2,
     "metadata": {},
     "output_type": "execute_result"
    }
   ],
   "source": [
    "df = pd.read_csv('../input/full-filled-brain-stroke-dataset/full_data.csv')\n",
    "df.head(10)"
   ]
  },
  {
   "cell_type": "markdown",
   "id": "9da68782",
   "metadata": {
    "papermill": {
     "duration": 0.013345,
     "end_time": "2022-08-10T05:37:50.341736",
     "exception": false,
     "start_time": "2022-08-10T05:37:50.328391",
     "status": "completed"
    },
    "tags": []
   },
   "source": [
    "<a id=\"title-two\"></a>\n",
    "<h1 style='background:#C4F1E8; border:2; border-radius: 10px; color:black'><center>DATA EXPLORATION</center></h1>"
   ]
  },
  {
   "cell_type": "code",
   "execution_count": 3,
   "id": "e19fed30",
   "metadata": {
    "execution": {
     "iopub.execute_input": "2022-08-10T05:37:50.369048Z",
     "iopub.status.busy": "2022-08-10T05:37:50.368491Z",
     "iopub.status.idle": "2022-08-10T05:37:50.399879Z",
     "shell.execute_reply": "2022-08-10T05:37:50.398469Z"
    },
    "papermill": {
     "duration": 0.048482,
     "end_time": "2022-08-10T05:37:50.402693",
     "exception": false,
     "start_time": "2022-08-10T05:37:50.354211",
     "status": "completed"
    },
    "tags": []
   },
   "outputs": [
    {
     "name": "stdout",
     "output_type": "stream",
     "text": [
      "<class 'pandas.core.frame.DataFrame'>\n",
      "RangeIndex: 4981 entries, 0 to 4980\n",
      "Data columns (total 11 columns):\n",
      " #   Column             Non-Null Count  Dtype  \n",
      "---  ------             --------------  -----  \n",
      " 0   gender             4981 non-null   object \n",
      " 1   age                4981 non-null   float64\n",
      " 2   hypertension       4981 non-null   int64  \n",
      " 3   heart_disease      4981 non-null   int64  \n",
      " 4   ever_married       4981 non-null   object \n",
      " 5   work_type          4981 non-null   object \n",
      " 6   Residence_type     4981 non-null   object \n",
      " 7   avg_glucose_level  4981 non-null   float64\n",
      " 8   bmi                4981 non-null   float64\n",
      " 9   smoking_status     4981 non-null   object \n",
      " 10  stroke             4981 non-null   int64  \n",
      "dtypes: float64(3), int64(3), object(5)\n",
      "memory usage: 428.2+ KB\n"
     ]
    }
   ],
   "source": [
    "df.info()"
   ]
  },
  {
   "cell_type": "markdown",
   "id": "14b9dc3b",
   "metadata": {
    "papermill": {
     "duration": 0.01285,
     "end_time": "2022-08-10T05:37:50.430778",
     "exception": false,
     "start_time": "2022-08-10T05:37:50.417928",
     "status": "completed"
    },
    "tags": []
   },
   "source": [
    "**Turning to Numerical**"
   ]
  },
  {
   "cell_type": "markdown",
   "id": "add92990",
   "metadata": {
    "papermill": {
     "duration": 0.014012,
     "end_time": "2022-08-10T05:37:50.457830",
     "exception": false,
     "start_time": "2022-08-10T05:37:50.443818",
     "status": "completed"
    },
    "tags": []
   },
   "source": [
    "## Numerical columns info"
   ]
  },
  {
   "cell_type": "code",
   "execution_count": 4,
   "id": "2492759d",
   "metadata": {
    "execution": {
     "iopub.execute_input": "2022-08-10T05:37:50.487820Z",
     "iopub.status.busy": "2022-08-10T05:37:50.486966Z",
     "iopub.status.idle": "2022-08-10T05:37:50.523146Z",
     "shell.execute_reply": "2022-08-10T05:37:50.521779Z"
    },
    "papermill": {
     "duration": 0.05261,
     "end_time": "2022-08-10T05:37:50.525677",
     "exception": false,
     "start_time": "2022-08-10T05:37:50.473067",
     "status": "completed"
    },
    "tags": []
   },
   "outputs": [
    {
     "data": {
      "text/html": [
       "<div>\n",
       "<style scoped>\n",
       "    .dataframe tbody tr th:only-of-type {\n",
       "        vertical-align: middle;\n",
       "    }\n",
       "\n",
       "    .dataframe tbody tr th {\n",
       "        vertical-align: top;\n",
       "    }\n",
       "\n",
       "    .dataframe thead th {\n",
       "        text-align: right;\n",
       "    }\n",
       "</style>\n",
       "<table border=\"1\" class=\"dataframe\">\n",
       "  <thead>\n",
       "    <tr style=\"text-align: right;\">\n",
       "      <th></th>\n",
       "      <th>age</th>\n",
       "      <th>hypertension</th>\n",
       "      <th>heart_disease</th>\n",
       "      <th>avg_glucose_level</th>\n",
       "      <th>bmi</th>\n",
       "      <th>stroke</th>\n",
       "    </tr>\n",
       "  </thead>\n",
       "  <tbody>\n",
       "    <tr>\n",
       "      <th>count</th>\n",
       "      <td>4981.000000</td>\n",
       "      <td>4981.000000</td>\n",
       "      <td>4981.000000</td>\n",
       "      <td>4981.000000</td>\n",
       "      <td>4981.000000</td>\n",
       "      <td>4981.000000</td>\n",
       "    </tr>\n",
       "    <tr>\n",
       "      <th>mean</th>\n",
       "      <td>43.419859</td>\n",
       "      <td>0.096165</td>\n",
       "      <td>0.055210</td>\n",
       "      <td>105.943562</td>\n",
       "      <td>28.498173</td>\n",
       "      <td>0.049789</td>\n",
       "    </tr>\n",
       "    <tr>\n",
       "      <th>std</th>\n",
       "      <td>22.662755</td>\n",
       "      <td>0.294848</td>\n",
       "      <td>0.228412</td>\n",
       "      <td>45.075373</td>\n",
       "      <td>6.790464</td>\n",
       "      <td>0.217531</td>\n",
       "    </tr>\n",
       "    <tr>\n",
       "      <th>min</th>\n",
       "      <td>0.080000</td>\n",
       "      <td>0.000000</td>\n",
       "      <td>0.000000</td>\n",
       "      <td>55.120000</td>\n",
       "      <td>14.000000</td>\n",
       "      <td>0.000000</td>\n",
       "    </tr>\n",
       "    <tr>\n",
       "      <th>25%</th>\n",
       "      <td>25.000000</td>\n",
       "      <td>0.000000</td>\n",
       "      <td>0.000000</td>\n",
       "      <td>77.230000</td>\n",
       "      <td>23.700000</td>\n",
       "      <td>0.000000</td>\n",
       "    </tr>\n",
       "    <tr>\n",
       "      <th>50%</th>\n",
       "      <td>45.000000</td>\n",
       "      <td>0.000000</td>\n",
       "      <td>0.000000</td>\n",
       "      <td>91.850000</td>\n",
       "      <td>28.100000</td>\n",
       "      <td>0.000000</td>\n",
       "    </tr>\n",
       "    <tr>\n",
       "      <th>75%</th>\n",
       "      <td>61.000000</td>\n",
       "      <td>0.000000</td>\n",
       "      <td>0.000000</td>\n",
       "      <td>113.860000</td>\n",
       "      <td>32.600000</td>\n",
       "      <td>0.000000</td>\n",
       "    </tr>\n",
       "    <tr>\n",
       "      <th>max</th>\n",
       "      <td>82.000000</td>\n",
       "      <td>1.000000</td>\n",
       "      <td>1.000000</td>\n",
       "      <td>271.740000</td>\n",
       "      <td>48.900000</td>\n",
       "      <td>1.000000</td>\n",
       "    </tr>\n",
       "  </tbody>\n",
       "</table>\n",
       "</div>"
      ],
      "text/plain": [
       "               age  hypertension  heart_disease  avg_glucose_level  \\\n",
       "count  4981.000000   4981.000000    4981.000000        4981.000000   \n",
       "mean     43.419859      0.096165       0.055210         105.943562   \n",
       "std      22.662755      0.294848       0.228412          45.075373   \n",
       "min       0.080000      0.000000       0.000000          55.120000   \n",
       "25%      25.000000      0.000000       0.000000          77.230000   \n",
       "50%      45.000000      0.000000       0.000000          91.850000   \n",
       "75%      61.000000      0.000000       0.000000         113.860000   \n",
       "max      82.000000      1.000000       1.000000         271.740000   \n",
       "\n",
       "               bmi       stroke  \n",
       "count  4981.000000  4981.000000  \n",
       "mean     28.498173     0.049789  \n",
       "std       6.790464     0.217531  \n",
       "min      14.000000     0.000000  \n",
       "25%      23.700000     0.000000  \n",
       "50%      28.100000     0.000000  \n",
       "75%      32.600000     0.000000  \n",
       "max      48.900000     1.000000  "
      ]
     },
     "execution_count": 4,
     "metadata": {},
     "output_type": "execute_result"
    }
   ],
   "source": [
    "df.describe()"
   ]
  },
  {
   "cell_type": "markdown",
   "id": "9c37fd43",
   "metadata": {
    "papermill": {
     "duration": 0.012758,
     "end_time": "2022-08-10T05:37:50.551375",
     "exception": false,
     "start_time": "2022-08-10T05:37:50.538617",
     "status": "completed"
    },
    "tags": []
   },
   "source": [
    "## Categorical columns info"
   ]
  },
  {
   "cell_type": "code",
   "execution_count": 5,
   "id": "db7c2c43",
   "metadata": {
    "execution": {
     "iopub.execute_input": "2022-08-10T05:37:50.579945Z",
     "iopub.status.busy": "2022-08-10T05:37:50.579119Z",
     "iopub.status.idle": "2022-08-10T05:37:50.589087Z",
     "shell.execute_reply": "2022-08-10T05:37:50.587931Z"
    },
    "papermill": {
     "duration": 0.026726,
     "end_time": "2022-08-10T05:37:50.591503",
     "exception": false,
     "start_time": "2022-08-10T05:37:50.564777",
     "status": "completed"
    },
    "tags": []
   },
   "outputs": [
    {
     "name": "stdout",
     "output_type": "stream",
     "text": [
      "['Male' 'Female']\n",
      "['Private' 'Self-employed' 'Govt_job' 'children']\n",
      "['Urban' 'Rural']\n",
      "['formerly smoked' 'never smoked' 'smokes' 'Unknown']\n",
      "['Yes' 'No']\n"
     ]
    }
   ],
   "source": [
    "print(df['gender'].unique())\n",
    "print(df['work_type'].unique())\n",
    "print(df['Residence_type'].unique())\n",
    "print(df['smoking_status'].unique())\n",
    "print(df['ever_married'].unique())"
   ]
  },
  {
   "cell_type": "markdown",
   "id": "73731026",
   "metadata": {
    "papermill": {
     "duration": 0.01237,
     "end_time": "2022-08-10T05:37:50.616881",
     "exception": false,
     "start_time": "2022-08-10T05:37:50.604511",
     "status": "completed"
    },
    "tags": []
   },
   "source": [
    "<a id=\"title-four\"></a>\n",
    "<h1 style='background:#C4F1E8; border:2; border-radius: 10px; color:black'><center>VIZUALIZATION</center></h1>"
   ]
  },
  {
   "cell_type": "markdown",
   "id": "ddbc0eb9",
   "metadata": {
    "papermill": {
     "duration": 0.012182,
     "end_time": "2022-08-10T05:37:50.641636",
     "exception": false,
     "start_time": "2022-08-10T05:37:50.629454",
     "status": "completed"
    },
    "tags": []
   },
   "source": [
    "*I tried to use plotly for vizualization as I needed to learn it more :) *"
   ]
  },
  {
   "cell_type": "code",
   "execution_count": 6,
   "id": "4d63c4b7",
   "metadata": {
    "execution": {
     "iopub.execute_input": "2022-08-10T05:37:50.669156Z",
     "iopub.status.busy": "2022-08-10T05:37:50.668693Z",
     "iopub.status.idle": "2022-08-10T05:37:52.976470Z",
     "shell.execute_reply": "2022-08-10T05:37:52.975496Z"
    },
    "papermill": {
     "duration": 2.324606,
     "end_time": "2022-08-10T05:37:52.978948",
     "exception": false,
     "start_time": "2022-08-10T05:37:50.654342",
     "status": "completed"
    },
    "tags": []
   },
   "outputs": [
    {
     "data": {
      "text/html": [
       "        <script type=\"text/javascript\">\n",
       "        window.PlotlyConfig = {MathJaxConfig: 'local'};\n",
       "        if (window.MathJax && window.MathJax.Hub && window.MathJax.Hub.Config) {window.MathJax.Hub.Config({SVG: {font: \"STIX-Web\"}});}\n",
       "        if (typeof require !== 'undefined') {\n",
       "        require.undef(\"plotly\");\n",
       "        requirejs.config({\n",
       "            paths: {\n",
       "                'plotly': ['https://cdn.plot.ly/plotly-2.12.1.min']\n",
       "            }\n",
       "        });\n",
       "        require(['plotly'], function(Plotly) {\n",
       "            window._Plotly = Plotly;\n",
       "        });\n",
       "        }\n",
       "        </script>\n",
       "        "
      ]
     },
     "metadata": {},
     "output_type": "display_data"
    }
   ],
   "source": [
    "import cufflinks as cf\n",
    "cf.go_offline()\n",
    "cf.set_config_file(offline=False, world_readable=True)  #  link pandas to plotly and add the iplot method"
   ]
  },
  {
   "cell_type": "markdown",
   "id": "61a31d65",
   "metadata": {
    "papermill": {
     "duration": 0.012483,
     "end_time": "2022-08-10T05:37:53.004334",
     "exception": false,
     "start_time": "2022-08-10T05:37:52.991851",
     "status": "completed"
    },
    "tags": []
   },
   "source": [
    "<h3 style='background:#F1C4EF; border:1; border-radius:10px; color:black'><center>The Proportion of Stroke among Gender</center></h3>"
   ]
  },
  {
   "cell_type": "code",
   "execution_count": 7,
   "id": "829b70b9",
   "metadata": {
    "execution": {
     "iopub.execute_input": "2022-08-10T05:37:53.031396Z",
     "iopub.status.busy": "2022-08-10T05:37:53.030956Z",
     "iopub.status.idle": "2022-08-10T05:37:53.078846Z",
     "shell.execute_reply": "2022-08-10T05:37:53.077745Z"
    },
    "papermill": {
     "duration": 0.064138,
     "end_time": "2022-08-10T05:37:53.081182",
     "exception": false,
     "start_time": "2022-08-10T05:37:53.017044",
     "status": "completed"
    },
    "tags": []
   },
   "outputs": [
    {
     "data": {
      "application/vnd.plotly.v1+json": {
       "config": {
        "linkText": "Export to plot.ly",
        "plotlyServerURL": "https://plot.ly",
        "showLink": true
       },
       "data": [
        {
         "labels": [
          "Female",
          "Male"
         ],
         "marker": {
          "colors": [
           "rgba(255, 182, 193, 1.0)",
           "rgba(135, 206, 250, 1.0)"
          ]
         },
         "name": "",
         "type": "pie",
         "values": [
          140,
          108
         ]
        }
       ],
       "layout": {
        "legend": {
         "bgcolor": "#F5F6F9",
         "font": {
          "color": "#4D5663"
         }
        },
        "paper_bgcolor": "#F5F6F9",
        "plot_bgcolor": "#F5F6F9",
        "title": "The Proportion of Stroke among Gender",
        "titlefont": {
         "color": "#4D5663"
        }
       }
      },
      "text/html": [
       "<div>                            <div id=\"e53b89f9-8d92-44ad-9b3c-75ef024c3926\" class=\"plotly-graph-div\" style=\"height:525px; width:100%;\"></div>            <script type=\"text/javascript\">                require([\"plotly\"], function(Plotly) {                    window.PLOTLYENV=window.PLOTLYENV || {};\n",
       "                    window.PLOTLYENV.BASE_URL='https://plot.ly';                                    if (document.getElementById(\"e53b89f9-8d92-44ad-9b3c-75ef024c3926\")) {                    Plotly.newPlot(                        \"e53b89f9-8d92-44ad-9b3c-75ef024c3926\",                        [{\"labels\":[\"Female\",\"Male\"],\"marker\":{\"colors\":[\"rgba(255, 182, 193, 1.0)\",\"rgba(135, 206, 250, 1.0)\"]},\"name\":\"\",\"values\":[140,108],\"type\":\"pie\"}],                        {\"legend\":{\"bgcolor\":\"#F5F6F9\",\"font\":{\"color\":\"#4D5663\"}},\"paper_bgcolor\":\"#F5F6F9\",\"plot_bgcolor\":\"#F5F6F9\",\"titlefont\":{\"color\":\"#4D5663\"},\"title\":\"The Proportion of Stroke among Gender\"},                        {\"showLink\": true, \"linkText\": \"Export to plot.ly\", \"plotlyServerURL\": \"https://plot.ly\", \"responsive\": true}                    ).then(function(){\n",
       "                            \n",
       "var gd = document.getElementById('e53b89f9-8d92-44ad-9b3c-75ef024c3926');\n",
       "var x = new MutationObserver(function (mutations, observer) {{\n",
       "        var display = window.getComputedStyle(gd).display;\n",
       "        if (!display || display === 'none') {{\n",
       "            console.log([gd, 'removed!']);\n",
       "            Plotly.purge(gd);\n",
       "            observer.disconnect();\n",
       "        }}\n",
       "}});\n",
       "\n",
       "// Listen for the removal of the full notebook cells\n",
       "var notebookContainer = gd.closest('#notebook-container');\n",
       "if (notebookContainer) {{\n",
       "    x.observe(notebookContainer, {childList: true});\n",
       "}}\n",
       "\n",
       "// Listen for the clearing of the current output cell\n",
       "var outputEl = gd.closest('.output');\n",
       "if (outputEl) {{\n",
       "    x.observe(outputEl, {childList: true});\n",
       "}}\n",
       "\n",
       "                        })                };                });            </script>        </div>"
      ]
     },
     "metadata": {},
     "output_type": "display_data"
    }
   ],
   "source": [
    "gender = df.groupby(df['gender'])['stroke'].sum()\n",
    "df_gender = pd.DataFrame({'labels': gender.index,\n",
    "                   'values': gender.values\n",
    "                  })\n",
    "colors = ['lightpink', 'lightskyblue']\n",
    "df_gender.iplot(kind='pie',labels='labels',values='values', title='The Proportion of Stroke among Gender', colors = colors)"
   ]
  },
  {
   "cell_type": "markdown",
   "id": "d17bad63",
   "metadata": {
    "papermill": {
     "duration": 0.012775,
     "end_time": "2022-08-10T05:37:53.107242",
     "exception": false,
     "start_time": "2022-08-10T05:37:53.094467",
     "status": "completed"
    },
    "tags": []
   },
   "source": [
    "<h3 style='background:#F1C4EF; border:1; border-radius:10px; color:black'><center>Work type of people who had stroke</center></h3>"
   ]
  },
  {
   "cell_type": "code",
   "execution_count": 8,
   "id": "ff3382dc",
   "metadata": {
    "execution": {
     "iopub.execute_input": "2022-08-10T05:37:53.135662Z",
     "iopub.status.busy": "2022-08-10T05:37:53.135021Z",
     "iopub.status.idle": "2022-08-10T05:37:53.154358Z",
     "shell.execute_reply": "2022-08-10T05:37:53.153444Z"
    },
    "papermill": {
     "duration": 0.036453,
     "end_time": "2022-08-10T05:37:53.156847",
     "exception": false,
     "start_time": "2022-08-10T05:37:53.120394",
     "status": "completed"
    },
    "tags": []
   },
   "outputs": [
    {
     "data": {
      "application/vnd.plotly.v1+json": {
       "config": {
        "linkText": "Export to plot.ly",
        "plotlyServerURL": "https://plot.ly",
        "showLink": true
       },
       "data": [
        {
         "labels": [
          "Govt_job",
          "Private",
          "Self-employed",
          "children"
         ],
         "marker": {
          "colors": [
           "rgba(152, 251, 152, 1.0)",
           "rgba(175, 238, 238, 1.0)",
           "rgba(216, 191, 216, 1.0)",
           "rgba(255, 228, 181, 1.0)"
          ]
         },
         "name": "",
         "pull": [
          0.1,
          0.1,
          0.1,
          0.2
         ],
         "type": "pie",
         "values": [
          33,
          148,
          65,
          2
         ]
        }
       ],
       "layout": {
        "legend": {
         "bgcolor": "#F5F6F9",
         "font": {
          "color": "#4D5663"
         }
        },
        "paper_bgcolor": "#F5F6F9",
        "plot_bgcolor": "#F5F6F9",
        "title": "Work type of people who had stroke",
        "titlefont": {
         "color": "#4D5663"
        }
       }
      },
      "text/html": [
       "<div>                            <div id=\"246259d4-0976-413b-bce2-df35d034345d\" class=\"plotly-graph-div\" style=\"height:525px; width:100%;\"></div>            <script type=\"text/javascript\">                require([\"plotly\"], function(Plotly) {                    window.PLOTLYENV=window.PLOTLYENV || {};\n",
       "                    window.PLOTLYENV.BASE_URL='https://plot.ly';                                    if (document.getElementById(\"246259d4-0976-413b-bce2-df35d034345d\")) {                    Plotly.newPlot(                        \"246259d4-0976-413b-bce2-df35d034345d\",                        [{\"labels\":[\"Govt_job\",\"Private\",\"Self-employed\",\"children\"],\"marker\":{\"colors\":[\"rgba(152, 251, 152, 1.0)\",\"rgba(175, 238, 238, 1.0)\",\"rgba(216, 191, 216, 1.0)\",\"rgba(255, 228, 181, 1.0)\"]},\"name\":\"\",\"pull\":[0.1,0.1,0.1,0.2],\"values\":[33,148,65,2],\"type\":\"pie\"}],                        {\"legend\":{\"bgcolor\":\"#F5F6F9\",\"font\":{\"color\":\"#4D5663\"}},\"paper_bgcolor\":\"#F5F6F9\",\"plot_bgcolor\":\"#F5F6F9\",\"titlefont\":{\"color\":\"#4D5663\"},\"title\":\"Work type of people who had stroke\"},                        {\"showLink\": true, \"linkText\": \"Export to plot.ly\", \"plotlyServerURL\": \"https://plot.ly\", \"responsive\": true}                    ).then(function(){\n",
       "                            \n",
       "var gd = document.getElementById('246259d4-0976-413b-bce2-df35d034345d');\n",
       "var x = new MutationObserver(function (mutations, observer) {{\n",
       "        var display = window.getComputedStyle(gd).display;\n",
       "        if (!display || display === 'none') {{\n",
       "            console.log([gd, 'removed!']);\n",
       "            Plotly.purge(gd);\n",
       "            observer.disconnect();\n",
       "        }}\n",
       "}});\n",
       "\n",
       "// Listen for the removal of the full notebook cells\n",
       "var notebookContainer = gd.closest('#notebook-container');\n",
       "if (notebookContainer) {{\n",
       "    x.observe(notebookContainer, {childList: true});\n",
       "}}\n",
       "\n",
       "// Listen for the clearing of the current output cell\n",
       "var outputEl = gd.closest('.output');\n",
       "if (outputEl) {{\n",
       "    x.observe(outputEl, {childList: true});\n",
       "}}\n",
       "\n",
       "                        })                };                });            </script>        </div>"
      ]
     },
     "metadata": {},
     "output_type": "display_data"
    }
   ],
   "source": [
    "job = df.groupby(df['work_type'])['stroke'].sum()\n",
    "df_job = pd.DataFrame({'labels': job.index,\n",
    "                   'values': job.values\n",
    "                  })\n",
    "colors2= ['palegreen','paleturquoise','thistle','moccasin']\n",
    "df_job.iplot(kind='pie',labels='labels',values='values', title='Work type of people who had stroke', colors = colors2, \n",
    "            pull=[0.1, 0.1, 0.1, 0.2])\n"
   ]
  },
  {
   "cell_type": "markdown",
   "id": "a298499d",
   "metadata": {
    "papermill": {
     "duration": 0.013292,
     "end_time": "2022-08-10T05:37:53.184344",
     "exception": false,
     "start_time": "2022-08-10T05:37:53.171052",
     "status": "completed"
    },
    "tags": []
   },
   "source": [
    "<h3 style='background:#F1C4EF; border:1; border-radius:10px; color:black'><center>Smoking status of people who had stroke</center></h3>"
   ]
  },
  {
   "cell_type": "code",
   "execution_count": 9,
   "id": "7e595264",
   "metadata": {
    "execution": {
     "iopub.execute_input": "2022-08-10T05:37:53.214106Z",
     "iopub.status.busy": "2022-08-10T05:37:53.213261Z",
     "iopub.status.idle": "2022-08-10T05:37:53.231544Z",
     "shell.execute_reply": "2022-08-10T05:37:53.230547Z"
    },
    "papermill": {
     "duration": 0.036161,
     "end_time": "2022-08-10T05:37:53.234088",
     "exception": false,
     "start_time": "2022-08-10T05:37:53.197927",
     "status": "completed"
    },
    "tags": []
   },
   "outputs": [
    {
     "data": {
      "application/vnd.plotly.v1+json": {
       "config": {
        "linkText": "Export to plot.ly",
        "plotlyServerURL": "https://plot.ly",
        "showLink": true
       },
       "data": [
        {
         "labels": [
          "Unknown",
          "formerly smoked",
          "never smoked",
          "smokes"
         ],
         "marker": {
          "colors": [
           "rgba(152, 251, 152, 1.0)",
           "rgba(175, 238, 238, 1.0)",
           "rgba(216, 191, 216, 1.0)",
           "rgba(255, 228, 181, 1.0)"
          ]
         },
         "name": "",
         "pull": [
          0.02,
          0.02,
          0.1,
          0.02
         ],
         "type": "pie",
         "values": [
          47,
          70,
          89,
          42
         ]
        }
       ],
       "layout": {
        "legend": {
         "bgcolor": "#F5F6F9",
         "font": {
          "color": "#4D5663"
         }
        },
        "paper_bgcolor": "#F5F6F9",
        "plot_bgcolor": "#F5F6F9",
        "title": "Smoking status of people who had stroke",
        "titlefont": {
         "color": "#4D5663"
        }
       }
      },
      "text/html": [
       "<div>                            <div id=\"f60224a8-6fb2-4423-8ffb-12441399660e\" class=\"plotly-graph-div\" style=\"height:525px; width:100%;\"></div>            <script type=\"text/javascript\">                require([\"plotly\"], function(Plotly) {                    window.PLOTLYENV=window.PLOTLYENV || {};\n",
       "                    window.PLOTLYENV.BASE_URL='https://plot.ly';                                    if (document.getElementById(\"f60224a8-6fb2-4423-8ffb-12441399660e\")) {                    Plotly.newPlot(                        \"f60224a8-6fb2-4423-8ffb-12441399660e\",                        [{\"labels\":[\"Unknown\",\"formerly smoked\",\"never smoked\",\"smokes\"],\"marker\":{\"colors\":[\"rgba(152, 251, 152, 1.0)\",\"rgba(175, 238, 238, 1.0)\",\"rgba(216, 191, 216, 1.0)\",\"rgba(255, 228, 181, 1.0)\"]},\"name\":\"\",\"pull\":[0.02,0.02,0.1,0.02],\"values\":[47,70,89,42],\"type\":\"pie\"}],                        {\"legend\":{\"bgcolor\":\"#F5F6F9\",\"font\":{\"color\":\"#4D5663\"}},\"paper_bgcolor\":\"#F5F6F9\",\"plot_bgcolor\":\"#F5F6F9\",\"titlefont\":{\"color\":\"#4D5663\"},\"title\":\"Smoking status of people who had stroke\"},                        {\"showLink\": true, \"linkText\": \"Export to plot.ly\", \"plotlyServerURL\": \"https://plot.ly\", \"responsive\": true}                    ).then(function(){\n",
       "                            \n",
       "var gd = document.getElementById('f60224a8-6fb2-4423-8ffb-12441399660e');\n",
       "var x = new MutationObserver(function (mutations, observer) {{\n",
       "        var display = window.getComputedStyle(gd).display;\n",
       "        if (!display || display === 'none') {{\n",
       "            console.log([gd, 'removed!']);\n",
       "            Plotly.purge(gd);\n",
       "            observer.disconnect();\n",
       "        }}\n",
       "}});\n",
       "\n",
       "// Listen for the removal of the full notebook cells\n",
       "var notebookContainer = gd.closest('#notebook-container');\n",
       "if (notebookContainer) {{\n",
       "    x.observe(notebookContainer, {childList: true});\n",
       "}}\n",
       "\n",
       "// Listen for the clearing of the current output cell\n",
       "var outputEl = gd.closest('.output');\n",
       "if (outputEl) {{\n",
       "    x.observe(outputEl, {childList: true});\n",
       "}}\n",
       "\n",
       "                        })                };                });            </script>        </div>"
      ]
     },
     "metadata": {},
     "output_type": "display_data"
    }
   ],
   "source": [
    "smoke = df.groupby(df['smoking_status'])['stroke'].sum()\n",
    "df_smoke = pd.DataFrame({'labels': smoke.index,\n",
    "                   'values': smoke.values\n",
    "                  })\n",
    "df_smoke.iplot(kind='pie',labels='labels',values='values', title='Smoking status of people who had stroke', colors = colors2, \n",
    "            pull=[0.02, 0.02, 0.1, 0.02])\n"
   ]
  },
  {
   "cell_type": "markdown",
   "id": "9f8f44be",
   "metadata": {
    "papermill": {
     "duration": 0.013853,
     "end_time": "2022-08-10T05:37:53.262097",
     "exception": false,
     "start_time": "2022-08-10T05:37:53.248244",
     "status": "completed"
    },
    "tags": []
   },
   "source": [
    "<h3 style='background:#F1C4EF; border:1; border-radius:10px; color:black'><center>Residence area of people who had stroke</center></h3>"
   ]
  },
  {
   "cell_type": "code",
   "execution_count": 10,
   "id": "ee9108ff",
   "metadata": {
    "execution": {
     "iopub.execute_input": "2022-08-10T05:37:53.292882Z",
     "iopub.status.busy": "2022-08-10T05:37:53.292002Z",
     "iopub.status.idle": "2022-08-10T05:37:53.311753Z",
     "shell.execute_reply": "2022-08-10T05:37:53.310425Z"
    },
    "papermill": {
     "duration": 0.038483,
     "end_time": "2022-08-10T05:37:53.314777",
     "exception": false,
     "start_time": "2022-08-10T05:37:53.276294",
     "status": "completed"
    },
    "tags": []
   },
   "outputs": [
    {
     "data": {
      "application/vnd.plotly.v1+json": {
       "config": {
        "linkText": "Export to plot.ly",
        "plotlyServerURL": "https://plot.ly",
        "showLink": true
       },
       "data": [
        {
         "hole": 0.3,
         "labels": [
          "Rural",
          "Urban"
         ],
         "marker": {
          "colors": [
           "rgba(152, 251, 152, 1.0)",
           "rgba(175, 238, 238, 1.0)"
          ]
         },
         "name": "",
         "pull": [
          0.02,
          0.02
         ],
         "type": "pie",
         "values": [
          113,
          135
         ]
        }
       ],
       "layout": {
        "legend": {
         "bgcolor": "#F5F6F9",
         "font": {
          "color": "#4D5663"
         }
        },
        "paper_bgcolor": "#F5F6F9",
        "plot_bgcolor": "#F5F6F9",
        "title": "Residence area of people who had stroke",
        "titlefont": {
         "color": "#4D5663"
        }
       }
      },
      "text/html": [
       "<div>                            <div id=\"4d0ab7d4-7802-4d82-89fa-b5eb552caf16\" class=\"plotly-graph-div\" style=\"height:525px; width:100%;\"></div>            <script type=\"text/javascript\">                require([\"plotly\"], function(Plotly) {                    window.PLOTLYENV=window.PLOTLYENV || {};\n",
       "                    window.PLOTLYENV.BASE_URL='https://plot.ly';                                    if (document.getElementById(\"4d0ab7d4-7802-4d82-89fa-b5eb552caf16\")) {                    Plotly.newPlot(                        \"4d0ab7d4-7802-4d82-89fa-b5eb552caf16\",                        [{\"hole\":0.3,\"labels\":[\"Rural\",\"Urban\"],\"marker\":{\"colors\":[\"rgba(152, 251, 152, 1.0)\",\"rgba(175, 238, 238, 1.0)\"]},\"name\":\"\",\"pull\":[0.02,0.02],\"values\":[113,135],\"type\":\"pie\"}],                        {\"legend\":{\"bgcolor\":\"#F5F6F9\",\"font\":{\"color\":\"#4D5663\"}},\"paper_bgcolor\":\"#F5F6F9\",\"plot_bgcolor\":\"#F5F6F9\",\"titlefont\":{\"color\":\"#4D5663\"},\"title\":\"Residence area of people who had stroke\"},                        {\"showLink\": true, \"linkText\": \"Export to plot.ly\", \"plotlyServerURL\": \"https://plot.ly\", \"responsive\": true}                    ).then(function(){\n",
       "                            \n",
       "var gd = document.getElementById('4d0ab7d4-7802-4d82-89fa-b5eb552caf16');\n",
       "var x = new MutationObserver(function (mutations, observer) {{\n",
       "        var display = window.getComputedStyle(gd).display;\n",
       "        if (!display || display === 'none') {{\n",
       "            console.log([gd, 'removed!']);\n",
       "            Plotly.purge(gd);\n",
       "            observer.disconnect();\n",
       "        }}\n",
       "}});\n",
       "\n",
       "// Listen for the removal of the full notebook cells\n",
       "var notebookContainer = gd.closest('#notebook-container');\n",
       "if (notebookContainer) {{\n",
       "    x.observe(notebookContainer, {childList: true});\n",
       "}}\n",
       "\n",
       "// Listen for the clearing of the current output cell\n",
       "var outputEl = gd.closest('.output');\n",
       "if (outputEl) {{\n",
       "    x.observe(outputEl, {childList: true});\n",
       "}}\n",
       "\n",
       "                        })                };                });            </script>        </div>"
      ]
     },
     "metadata": {},
     "output_type": "display_data"
    }
   ],
   "source": [
    "\n",
    "Residence = df.groupby(df['Residence_type'])['stroke'].sum()\n",
    "df_Residence = pd.DataFrame({'labels': Residence.index,\n",
    "                   'values': Residence.values\n",
    "                  })\n",
    "df_Residence.iplot(kind='pie',labels='labels',values='values', title='Residence area of people who had stroke', colors = colors2, \n",
    "            pull=[0.02, 0.02],hole = 0.3)"
   ]
  },
  {
   "cell_type": "markdown",
   "id": "e2fa2d45",
   "metadata": {
    "papermill": {
     "duration": 0.014276,
     "end_time": "2022-08-10T05:37:53.343846",
     "exception": false,
     "start_time": "2022-08-10T05:37:53.329570",
     "status": "completed"
    },
    "tags": []
   },
   "source": [
    "<h3 style='background:#F1C4EF; border:1; border-radius:10px; color:black'><center>Marriage status of people who had stroke</center></h3>"
   ]
  },
  {
   "cell_type": "code",
   "execution_count": 11,
   "id": "989d914d",
   "metadata": {
    "execution": {
     "iopub.execute_input": "2022-08-10T05:37:53.375627Z",
     "iopub.status.busy": "2022-08-10T05:37:53.374594Z",
     "iopub.status.idle": "2022-08-10T05:37:53.393048Z",
     "shell.execute_reply": "2022-08-10T05:37:53.391923Z"
    },
    "papermill": {
     "duration": 0.036846,
     "end_time": "2022-08-10T05:37:53.395454",
     "exception": false,
     "start_time": "2022-08-10T05:37:53.358608",
     "status": "completed"
    },
    "tags": []
   },
   "outputs": [
    {
     "data": {
      "application/vnd.plotly.v1+json": {
       "config": {
        "linkText": "Export to plot.ly",
        "plotlyServerURL": "https://plot.ly",
        "showLink": true
       },
       "data": [
        {
         "hole": 0.3,
         "labels": [
          "No",
          "Yes"
         ],
         "marker": {
          "colors": [
           "rgba(152, 251, 152, 1.0)",
           "rgba(175, 238, 238, 1.0)"
          ]
         },
         "name": "",
         "pull": [
          0.02,
          0.02
         ],
         "type": "pie",
         "values": [
          29,
          219
         ]
        }
       ],
       "layout": {
        "legend": {
         "bgcolor": "#F5F6F9",
         "font": {
          "color": "#4D5663"
         }
        },
        "paper_bgcolor": "#F5F6F9",
        "plot_bgcolor": "#F5F6F9",
        "title": "Marriage status of people who had stroke",
        "titlefont": {
         "color": "#4D5663"
        }
       }
      },
      "text/html": [
       "<div>                            <div id=\"37976ff9-8577-4cd9-aa9a-62ee9f030d19\" class=\"plotly-graph-div\" style=\"height:525px; width:100%;\"></div>            <script type=\"text/javascript\">                require([\"plotly\"], function(Plotly) {                    window.PLOTLYENV=window.PLOTLYENV || {};\n",
       "                    window.PLOTLYENV.BASE_URL='https://plot.ly';                                    if (document.getElementById(\"37976ff9-8577-4cd9-aa9a-62ee9f030d19\")) {                    Plotly.newPlot(                        \"37976ff9-8577-4cd9-aa9a-62ee9f030d19\",                        [{\"hole\":0.3,\"labels\":[\"No\",\"Yes\"],\"marker\":{\"colors\":[\"rgba(152, 251, 152, 1.0)\",\"rgba(175, 238, 238, 1.0)\"]},\"name\":\"\",\"pull\":[0.02,0.02],\"values\":[29,219],\"type\":\"pie\"}],                        {\"legend\":{\"bgcolor\":\"#F5F6F9\",\"font\":{\"color\":\"#4D5663\"}},\"paper_bgcolor\":\"#F5F6F9\",\"plot_bgcolor\":\"#F5F6F9\",\"titlefont\":{\"color\":\"#4D5663\"},\"title\":\"Marriage status of people who had stroke\"},                        {\"showLink\": true, \"linkText\": \"Export to plot.ly\", \"plotlyServerURL\": \"https://plot.ly\", \"responsive\": true}                    ).then(function(){\n",
       "                            \n",
       "var gd = document.getElementById('37976ff9-8577-4cd9-aa9a-62ee9f030d19');\n",
       "var x = new MutationObserver(function (mutations, observer) {{\n",
       "        var display = window.getComputedStyle(gd).display;\n",
       "        if (!display || display === 'none') {{\n",
       "            console.log([gd, 'removed!']);\n",
       "            Plotly.purge(gd);\n",
       "            observer.disconnect();\n",
       "        }}\n",
       "}});\n",
       "\n",
       "// Listen for the removal of the full notebook cells\n",
       "var notebookContainer = gd.closest('#notebook-container');\n",
       "if (notebookContainer) {{\n",
       "    x.observe(notebookContainer, {childList: true});\n",
       "}}\n",
       "\n",
       "// Listen for the clearing of the current output cell\n",
       "var outputEl = gd.closest('.output');\n",
       "if (outputEl) {{\n",
       "    x.observe(outputEl, {childList: true});\n",
       "}}\n",
       "\n",
       "                        })                };                });            </script>        </div>"
      ]
     },
     "metadata": {},
     "output_type": "display_data"
    }
   ],
   "source": [
    "Married = df.groupby(df['ever_married'])['stroke'].sum()\n",
    "df_Married = pd.DataFrame({'labels': Married.index,\n",
    "                   'values': Married.values\n",
    "                  })\n",
    "df_Married.iplot(kind='pie',labels='labels',values='values', title='Marriage status of people who had stroke', colors = colors2, \n",
    "            pull=[0.02, 0.02],hole = 0.3)"
   ]
  },
  {
   "cell_type": "markdown",
   "id": "32a6b5f2",
   "metadata": {
    "papermill": {
     "duration": 0.014954,
     "end_time": "2022-08-10T05:37:53.425548",
     "exception": false,
     "start_time": "2022-08-10T05:37:53.410594",
     "status": "completed"
    },
    "tags": []
   },
   "source": [
    "\n",
    "\n"
   ]
  },
  {
   "cell_type": "markdown",
   "id": "886371fa",
   "metadata": {
    "papermill": {
     "duration": 0.014862,
     "end_time": "2022-08-10T05:37:53.455519",
     "exception": false,
     "start_time": "2022-08-10T05:37:53.440657",
     "status": "completed"
    },
    "tags": []
   },
   "source": [
    "<h3 style='background:#F1C4EF; border:1; border-radius:10px; color:black'><center>Stroke age among gender</center></h3>"
   ]
  },
  {
   "cell_type": "code",
   "execution_count": 12,
   "id": "e92675d3",
   "metadata": {
    "execution": {
     "iopub.execute_input": "2022-08-10T05:37:53.488101Z",
     "iopub.status.busy": "2022-08-10T05:37:53.487296Z",
     "iopub.status.idle": "2022-08-10T05:37:54.274797Z",
     "shell.execute_reply": "2022-08-10T05:37:54.273818Z"
    },
    "papermill": {
     "duration": 0.807374,
     "end_time": "2022-08-10T05:37:54.278070",
     "exception": false,
     "start_time": "2022-08-10T05:37:53.470696",
     "status": "completed"
    },
    "tags": []
   },
   "outputs": [
    {
     "data": {
      "application/vnd.plotly.v1+json": {
       "config": {
        "linkText": "Export to plot.ly",
        "plotlyServerURL": "https://plot.ly",
        "showLink": true
       },
       "data": [
        {
         "histfunc": "count",
         "histnorm": "",
         "marker": {
          "color": "rgba(255, 153, 51, 1.0)",
          "line": {
           "color": "#4D5663",
           "width": 1.3
          }
         },
         "name": "male_age",
         "nbinsx": 20,
         "opacity": 0.8,
         "orientation": "v",
         "type": "histogram",
         "x": [
          67.0,
          80.0,
          null,
          null,
          81.0,
          74.0,
          null,
          null,
          null,
          null,
          null,
          null,
          null,
          64.0,
          75.0,
          null,
          null,
          null,
          null,
          82.0,
          71.0,
          80.0,
          null,
          69.0,
          57.0,
          42.0,
          null,
          80.0,
          48.0,
          null,
          74.0,
          null,
          58.0,
          null,
          78.0,
          54.0,
          82.0,
          60.0,
          76.0,
          null,
          81.0,
          null,
          null,
          null,
          63.0,
          null,
          73.0,
          null,
          null,
          null,
          null,
          null,
          78.0,
          null,
          76.0,
          59.0,
          null,
          null,
          null,
          63.0,
          null,
          null,
          80.0,
          null,
          43.0,
          59.0,
          null,
          null,
          54.0,
          61.0,
          null,
          47.0,
          74.0,
          null,
          81.0,
          null,
          null,
          45.0,
          null,
          null,
          58.0,
          57.0,
          null,
          64.0,
          null,
          null,
          null,
          null,
          null,
          null,
          null,
          null,
          79.0,
          80.0,
          null,
          71.0,
          61.0,
          74.0,
          null,
          null,
          null,
          null,
          80.0,
          56.0,
          null,
          null,
          82.0,
          null,
          null,
          69.0,
          null,
          null,
          76.0,
          null,
          76.0,
          null,
          82.0,
          null,
          null,
          null,
          null,
          66.0,
          null,
          null,
          null,
          68.0,
          null,
          68.0,
          null,
          null,
          null,
          null,
          null,
          null,
          null,
          null,
          78.0,
          null,
          null,
          81.0,
          null,
          null,
          72.0,
          null,
          78.0,
          81.0,
          null,
          59.0,
          null,
          61.0,
          63.0,
          63.0,
          null,
          82.0,
          null,
          51.0,
          59.0,
          68.0,
          null,
          59.0,
          70.0,
          69.0,
          null,
          80.0,
          null,
          null,
          54.0,
          null,
          null,
          78.0,
          78.0,
          null,
          null,
          null,
          63.0,
          null,
          null,
          null,
          78.0,
          null,
          73.0,
          81.0,
          79.0,
          null,
          null,
          49.0,
          null,
          null,
          null,
          null,
          null,
          null,
          null,
          null,
          78.0,
          null,
          57.0,
          77.0,
          null,
          60.0,
          66.0,
          57.0,
          68.0,
          null,
          57.0,
          null,
          null,
          null,
          null,
          null,
          78.0,
          57.0,
          58.0,
          59.0,
          null,
          null,
          null,
          78.0,
          null,
          78.0,
          75.0,
          null,
          null,
          null,
          58.0,
          58.0,
          null,
          null,
          78.0,
          null,
          null,
          65.0,
          null,
          null,
          71.0,
          null,
          79.0,
          64.0,
          null,
          null,
          null,
          null,
          61.0,
          79.0,
          74.0,
          null,
          74.0,
          71.0
         ]
        },
        {
         "histfunc": "count",
         "histnorm": "",
         "marker": {
          "color": "rgba(55, 128, 191, 1.0)",
          "line": {
           "color": "#4D5663",
           "width": 1.3
          }
         },
         "name": "female_age",
         "nbinsx": 20,
         "opacity": 0.8,
         "orientation": "v",
         "type": "histogram",
         "x": [
          null,
          null,
          49.0,
          79.0,
          null,
          null,
          69.0,
          78.0,
          81.0,
          61.0,
          54.0,
          79.0,
          50.0,
          null,
          null,
          60.0,
          71.0,
          52.0,
          79.0,
          null,
          null,
          null,
          65.0,
          null,
          null,
          null,
          82.0,
          null,
          null,
          82.0,
          null,
          72.0,
          null,
          49.0,
          null,
          null,
          null,
          null,
          null,
          58.0,
          null,
          39.0,
          79.0,
          77.0,
          null,
          82.0,
          null,
          54.0,
          56.0,
          80.0,
          67.0,
          45.0,
          null,
          70.0,
          null,
          null,
          80.0,
          67.0,
          66.0,
          null,
          52.0,
          80.0,
          null,
          79.0,
          null,
          null,
          79.0,
          68.0,
          null,
          null,
          70.0,
          null,
          null,
          79.0,
          null,
          57.0,
          80.0,
          null,
          78.0,
          70.0,
          null,
          null,
          69.0,
          null,
          77.0,
          74.0,
          81.0,
          57.0,
          50.0,
          54.0,
          79.0,
          53.0,
          null,
          null,
          68.0,
          null,
          null,
          null,
          38.0,
          77.0,
          58.0,
          53.0,
          null,
          null,
          72.0,
          80.0,
          null,
          73.0,
          78.0,
          null,
          68.0,
          71.0,
          null,
          76.0,
          null,
          75.0,
          null,
          59.0,
          74.0,
          69.0,
          72.0,
          null,
          78.0,
          57.0,
          70.0,
          null,
          80.0,
          null,
          55.0,
          77.0,
          50.0,
          57.0,
          71.0,
          81.0,
          78.0,
          70.0,
          null,
          56.0,
          79.0,
          null,
          60.0,
          80.0,
          null,
          80.0,
          null,
          null,
          46.0,
          null,
          32.0,
          null,
          null,
          null,
          82.0,
          null,
          65.0,
          null,
          null,
          null,
          72.0,
          null,
          null,
          null,
          74.0,
          null,
          77.0,
          78.0,
          null,
          78.0,
          81.0,
          null,
          null,
          63.0,
          39.0,
          51.0,
          null,
          48.0,
          81.0,
          79.0,
          null,
          55.0,
          null,
          null,
          null,
          63.0,
          81.0,
          null,
          57.0,
          81.0,
          39.0,
          80.0,
          81.0,
          79.0,
          73.0,
          77.0,
          null,
          68.0,
          null,
          null,
          51.0,
          null,
          null,
          null,
          null,
          68.0,
          null,
          14.0,
          75.0,
          78.0,
          61.0,
          59.0,
          null,
          null,
          null,
          null,
          63.0,
          75.0,
          76.0,
          null,
          63.0,
          null,
          null,
          76.0,
          51.0,
          66.0,
          null,
          null,
          76.0,
          72.0,
          null,
          75.0,
          38.0,
          null,
          79.0,
          76.0,
          null,
          1.32,
          null,
          null,
          79.0,
          78.0,
          80.0,
          77.0,
          null,
          null,
          null,
          76.0,
          null,
          null
         ]
        }
       ],
       "layout": {
        "barmode": "overlay",
        "legend": {
         "bgcolor": "#FFFFFF",
         "font": {
          "color": "#4D5663"
         }
        },
        "paper_bgcolor": "#FFFFFF",
        "plot_bgcolor": "#FFFFFF",
        "template": {
         "data": {
          "bar": [
           {
            "error_x": {
             "color": "#2a3f5f"
            },
            "error_y": {
             "color": "#2a3f5f"
            },
            "marker": {
             "line": {
              "color": "#E5ECF6",
              "width": 0.5
             },
             "pattern": {
              "fillmode": "overlay",
              "size": 10,
              "solidity": 0.2
             }
            },
            "type": "bar"
           }
          ],
          "barpolar": [
           {
            "marker": {
             "line": {
              "color": "#E5ECF6",
              "width": 0.5
             },
             "pattern": {
              "fillmode": "overlay",
              "size": 10,
              "solidity": 0.2
             }
            },
            "type": "barpolar"
           }
          ],
          "carpet": [
           {
            "aaxis": {
             "endlinecolor": "#2a3f5f",
             "gridcolor": "white",
             "linecolor": "white",
             "minorgridcolor": "white",
             "startlinecolor": "#2a3f5f"
            },
            "baxis": {
             "endlinecolor": "#2a3f5f",
             "gridcolor": "white",
             "linecolor": "white",
             "minorgridcolor": "white",
             "startlinecolor": "#2a3f5f"
            },
            "type": "carpet"
           }
          ],
          "choropleth": [
           {
            "colorbar": {
             "outlinewidth": 0,
             "ticks": ""
            },
            "type": "choropleth"
           }
          ],
          "contour": [
           {
            "colorbar": {
             "outlinewidth": 0,
             "ticks": ""
            },
            "colorscale": [
             [
              0.0,
              "#0d0887"
             ],
             [
              0.1111111111111111,
              "#46039f"
             ],
             [
              0.2222222222222222,
              "#7201a8"
             ],
             [
              0.3333333333333333,
              "#9c179e"
             ],
             [
              0.4444444444444444,
              "#bd3786"
             ],
             [
              0.5555555555555556,
              "#d8576b"
             ],
             [
              0.6666666666666666,
              "#ed7953"
             ],
             [
              0.7777777777777778,
              "#fb9f3a"
             ],
             [
              0.8888888888888888,
              "#fdca26"
             ],
             [
              1.0,
              "#f0f921"
             ]
            ],
            "type": "contour"
           }
          ],
          "contourcarpet": [
           {
            "colorbar": {
             "outlinewidth": 0,
             "ticks": ""
            },
            "type": "contourcarpet"
           }
          ],
          "heatmap": [
           {
            "colorbar": {
             "outlinewidth": 0,
             "ticks": ""
            },
            "colorscale": [
             [
              0.0,
              "#0d0887"
             ],
             [
              0.1111111111111111,
              "#46039f"
             ],
             [
              0.2222222222222222,
              "#7201a8"
             ],
             [
              0.3333333333333333,
              "#9c179e"
             ],
             [
              0.4444444444444444,
              "#bd3786"
             ],
             [
              0.5555555555555556,
              "#d8576b"
             ],
             [
              0.6666666666666666,
              "#ed7953"
             ],
             [
              0.7777777777777778,
              "#fb9f3a"
             ],
             [
              0.8888888888888888,
              "#fdca26"
             ],
             [
              1.0,
              "#f0f921"
             ]
            ],
            "type": "heatmap"
           }
          ],
          "heatmapgl": [
           {
            "colorbar": {
             "outlinewidth": 0,
             "ticks": ""
            },
            "colorscale": [
             [
              0.0,
              "#0d0887"
             ],
             [
              0.1111111111111111,
              "#46039f"
             ],
             [
              0.2222222222222222,
              "#7201a8"
             ],
             [
              0.3333333333333333,
              "#9c179e"
             ],
             [
              0.4444444444444444,
              "#bd3786"
             ],
             [
              0.5555555555555556,
              "#d8576b"
             ],
             [
              0.6666666666666666,
              "#ed7953"
             ],
             [
              0.7777777777777778,
              "#fb9f3a"
             ],
             [
              0.8888888888888888,
              "#fdca26"
             ],
             [
              1.0,
              "#f0f921"
             ]
            ],
            "type": "heatmapgl"
           }
          ],
          "histogram": [
           {
            "marker": {
             "pattern": {
              "fillmode": "overlay",
              "size": 10,
              "solidity": 0.2
             }
            },
            "type": "histogram"
           }
          ],
          "histogram2d": [
           {
            "colorbar": {
             "outlinewidth": 0,
             "ticks": ""
            },
            "colorscale": [
             [
              0.0,
              "#0d0887"
             ],
             [
              0.1111111111111111,
              "#46039f"
             ],
             [
              0.2222222222222222,
              "#7201a8"
             ],
             [
              0.3333333333333333,
              "#9c179e"
             ],
             [
              0.4444444444444444,
              "#bd3786"
             ],
             [
              0.5555555555555556,
              "#d8576b"
             ],
             [
              0.6666666666666666,
              "#ed7953"
             ],
             [
              0.7777777777777778,
              "#fb9f3a"
             ],
             [
              0.8888888888888888,
              "#fdca26"
             ],
             [
              1.0,
              "#f0f921"
             ]
            ],
            "type": "histogram2d"
           }
          ],
          "histogram2dcontour": [
           {
            "colorbar": {
             "outlinewidth": 0,
             "ticks": ""
            },
            "colorscale": [
             [
              0.0,
              "#0d0887"
             ],
             [
              0.1111111111111111,
              "#46039f"
             ],
             [
              0.2222222222222222,
              "#7201a8"
             ],
             [
              0.3333333333333333,
              "#9c179e"
             ],
             [
              0.4444444444444444,
              "#bd3786"
             ],
             [
              0.5555555555555556,
              "#d8576b"
             ],
             [
              0.6666666666666666,
              "#ed7953"
             ],
             [
              0.7777777777777778,
              "#fb9f3a"
             ],
             [
              0.8888888888888888,
              "#fdca26"
             ],
             [
              1.0,
              "#f0f921"
             ]
            ],
            "type": "histogram2dcontour"
           }
          ],
          "mesh3d": [
           {
            "colorbar": {
             "outlinewidth": 0,
             "ticks": ""
            },
            "type": "mesh3d"
           }
          ],
          "parcoords": [
           {
            "line": {
             "colorbar": {
              "outlinewidth": 0,
              "ticks": ""
             }
            },
            "type": "parcoords"
           }
          ],
          "pie": [
           {
            "automargin": true,
            "type": "pie"
           }
          ],
          "scatter": [
           {
            "fillpattern": {
             "fillmode": "overlay",
             "size": 10,
             "solidity": 0.2
            },
            "type": "scatter"
           }
          ],
          "scatter3d": [
           {
            "line": {
             "colorbar": {
              "outlinewidth": 0,
              "ticks": ""
             }
            },
            "marker": {
             "colorbar": {
              "outlinewidth": 0,
              "ticks": ""
             }
            },
            "type": "scatter3d"
           }
          ],
          "scattercarpet": [
           {
            "marker": {
             "colorbar": {
              "outlinewidth": 0,
              "ticks": ""
             }
            },
            "type": "scattercarpet"
           }
          ],
          "scattergeo": [
           {
            "marker": {
             "colorbar": {
              "outlinewidth": 0,
              "ticks": ""
             }
            },
            "type": "scattergeo"
           }
          ],
          "scattergl": [
           {
            "marker": {
             "colorbar": {
              "outlinewidth": 0,
              "ticks": ""
             }
            },
            "type": "scattergl"
           }
          ],
          "scattermapbox": [
           {
            "marker": {
             "colorbar": {
              "outlinewidth": 0,
              "ticks": ""
             }
            },
            "type": "scattermapbox"
           }
          ],
          "scatterpolar": [
           {
            "marker": {
             "colorbar": {
              "outlinewidth": 0,
              "ticks": ""
             }
            },
            "type": "scatterpolar"
           }
          ],
          "scatterpolargl": [
           {
            "marker": {
             "colorbar": {
              "outlinewidth": 0,
              "ticks": ""
             }
            },
            "type": "scatterpolargl"
           }
          ],
          "scatterternary": [
           {
            "marker": {
             "colorbar": {
              "outlinewidth": 0,
              "ticks": ""
             }
            },
            "type": "scatterternary"
           }
          ],
          "surface": [
           {
            "colorbar": {
             "outlinewidth": 0,
             "ticks": ""
            },
            "colorscale": [
             [
              0.0,
              "#0d0887"
             ],
             [
              0.1111111111111111,
              "#46039f"
             ],
             [
              0.2222222222222222,
              "#7201a8"
             ],
             [
              0.3333333333333333,
              "#9c179e"
             ],
             [
              0.4444444444444444,
              "#bd3786"
             ],
             [
              0.5555555555555556,
              "#d8576b"
             ],
             [
              0.6666666666666666,
              "#ed7953"
             ],
             [
              0.7777777777777778,
              "#fb9f3a"
             ],
             [
              0.8888888888888888,
              "#fdca26"
             ],
             [
              1.0,
              "#f0f921"
             ]
            ],
            "type": "surface"
           }
          ],
          "table": [
           {
            "cells": {
             "fill": {
              "color": "#EBF0F8"
             },
             "line": {
              "color": "white"
             }
            },
            "header": {
             "fill": {
              "color": "#C8D4E3"
             },
             "line": {
              "color": "white"
             }
            },
            "type": "table"
           }
          ]
         },
         "layout": {
          "annotationdefaults": {
           "arrowcolor": "#2a3f5f",
           "arrowhead": 0,
           "arrowwidth": 1
          },
          "autotypenumbers": "strict",
          "coloraxis": {
           "colorbar": {
            "outlinewidth": 0,
            "ticks": ""
           }
          },
          "colorscale": {
           "diverging": [
            [
             0,
             "#8e0152"
            ],
            [
             0.1,
             "#c51b7d"
            ],
            [
             0.2,
             "#de77ae"
            ],
            [
             0.3,
             "#f1b6da"
            ],
            [
             0.4,
             "#fde0ef"
            ],
            [
             0.5,
             "#f7f7f7"
            ],
            [
             0.6,
             "#e6f5d0"
            ],
            [
             0.7,
             "#b8e186"
            ],
            [
             0.8,
             "#7fbc41"
            ],
            [
             0.9,
             "#4d9221"
            ],
            [
             1,
             "#276419"
            ]
           ],
           "sequential": [
            [
             0.0,
             "#0d0887"
            ],
            [
             0.1111111111111111,
             "#46039f"
            ],
            [
             0.2222222222222222,
             "#7201a8"
            ],
            [
             0.3333333333333333,
             "#9c179e"
            ],
            [
             0.4444444444444444,
             "#bd3786"
            ],
            [
             0.5555555555555556,
             "#d8576b"
            ],
            [
             0.6666666666666666,
             "#ed7953"
            ],
            [
             0.7777777777777778,
             "#fb9f3a"
            ],
            [
             0.8888888888888888,
             "#fdca26"
            ],
            [
             1.0,
             "#f0f921"
            ]
           ],
           "sequentialminus": [
            [
             0.0,
             "#0d0887"
            ],
            [
             0.1111111111111111,
             "#46039f"
            ],
            [
             0.2222222222222222,
             "#7201a8"
            ],
            [
             0.3333333333333333,
             "#9c179e"
            ],
            [
             0.4444444444444444,
             "#bd3786"
            ],
            [
             0.5555555555555556,
             "#d8576b"
            ],
            [
             0.6666666666666666,
             "#ed7953"
            ],
            [
             0.7777777777777778,
             "#fb9f3a"
            ],
            [
             0.8888888888888888,
             "#fdca26"
            ],
            [
             1.0,
             "#f0f921"
            ]
           ]
          },
          "colorway": [
           "#636efa",
           "#EF553B",
           "#00cc96",
           "#ab63fa",
           "#FFA15A",
           "#19d3f3",
           "#FF6692",
           "#B6E880",
           "#FF97FF",
           "#FECB52"
          ],
          "font": {
           "color": "#2a3f5f"
          },
          "geo": {
           "bgcolor": "white",
           "lakecolor": "white",
           "landcolor": "#E5ECF6",
           "showlakes": true,
           "showland": true,
           "subunitcolor": "white"
          },
          "hoverlabel": {
           "align": "left"
          },
          "hovermode": "closest",
          "mapbox": {
           "style": "light"
          },
          "paper_bgcolor": "white",
          "plot_bgcolor": "#E5ECF6",
          "polar": {
           "angularaxis": {
            "gridcolor": "white",
            "linecolor": "white",
            "ticks": ""
           },
           "bgcolor": "#E5ECF6",
           "radialaxis": {
            "gridcolor": "white",
            "linecolor": "white",
            "ticks": ""
           }
          },
          "scene": {
           "xaxis": {
            "backgroundcolor": "#E5ECF6",
            "gridcolor": "white",
            "gridwidth": 2,
            "linecolor": "white",
            "showbackground": true,
            "ticks": "",
            "zerolinecolor": "white"
           },
           "yaxis": {
            "backgroundcolor": "#E5ECF6",
            "gridcolor": "white",
            "gridwidth": 2,
            "linecolor": "white",
            "showbackground": true,
            "ticks": "",
            "zerolinecolor": "white"
           },
           "zaxis": {
            "backgroundcolor": "#E5ECF6",
            "gridcolor": "white",
            "gridwidth": 2,
            "linecolor": "white",
            "showbackground": true,
            "ticks": "",
            "zerolinecolor": "white"
           }
          },
          "shapedefaults": {
           "line": {
            "color": "#2a3f5f"
           }
          },
          "ternary": {
           "aaxis": {
            "gridcolor": "white",
            "linecolor": "white",
            "ticks": ""
           },
           "baxis": {
            "gridcolor": "white",
            "linecolor": "white",
            "ticks": ""
           },
           "bgcolor": "#E5ECF6",
           "caxis": {
            "gridcolor": "white",
            "linecolor": "white",
            "ticks": ""
           }
          },
          "title": {
           "x": 0.05
          },
          "xaxis": {
           "automargin": true,
           "gridcolor": "white",
           "linecolor": "white",
           "ticks": "",
           "title": {
            "standoff": 15
           },
           "zerolinecolor": "white",
           "zerolinewidth": 2
          },
          "yaxis": {
           "automargin": true,
           "gridcolor": "white",
           "linecolor": "white",
           "ticks": "",
           "title": {
            "standoff": 15
           },
           "zerolinecolor": "white",
           "zerolinewidth": 2
          }
         }
        },
        "title": {
         "font": {
          "color": "#4D5663"
         },
         "text": "Stroke Ages"
        },
        "xaxis": {
         "gridcolor": "#E1E5ED",
         "showgrid": true,
         "tickfont": {
          "color": "#4D5663"
         },
         "title": {
          "font": {
           "color": "#4D5663"
          },
          "text": "Ages"
         },
         "zerolinecolor": "#E1E5ED"
        },
        "yaxis": {
         "gridcolor": "#E1E5ED",
         "showgrid": true,
         "tickfont": {
          "color": "#4D5663"
         },
         "title": {
          "font": {
           "color": "#4D5663"
          },
          "text": "Count"
         },
         "zerolinecolor": "#E1E5ED"
        }
       }
      },
      "text/html": [
       "<div>                            <div id=\"41b72f26-a412-451d-a728-2f3b4339c4d6\" class=\"plotly-graph-div\" style=\"height:525px; width:100%;\"></div>            <script type=\"text/javascript\">                require([\"plotly\"], function(Plotly) {                    window.PLOTLYENV=window.PLOTLYENV || {};\n",
       "                    window.PLOTLYENV.BASE_URL='https://plot.ly';                                    if (document.getElementById(\"41b72f26-a412-451d-a728-2f3b4339c4d6\")) {                    Plotly.newPlot(                        \"41b72f26-a412-451d-a728-2f3b4339c4d6\",                        [{\"histfunc\":\"count\",\"histnorm\":\"\",\"marker\":{\"color\":\"rgba(255, 153, 51, 1.0)\",\"line\":{\"color\":\"#4D5663\",\"width\":1.3}},\"name\":\"male_age\",\"nbinsx\":20,\"opacity\":0.8,\"orientation\":\"v\",\"x\":[67.0,80.0,null,null,81.0,74.0,null,null,null,null,null,null,null,64.0,75.0,null,null,null,null,82.0,71.0,80.0,null,69.0,57.0,42.0,null,80.0,48.0,null,74.0,null,58.0,null,78.0,54.0,82.0,60.0,76.0,null,81.0,null,null,null,63.0,null,73.0,null,null,null,null,null,78.0,null,76.0,59.0,null,null,null,63.0,null,null,80.0,null,43.0,59.0,null,null,54.0,61.0,null,47.0,74.0,null,81.0,null,null,45.0,null,null,58.0,57.0,null,64.0,null,null,null,null,null,null,null,null,79.0,80.0,null,71.0,61.0,74.0,null,null,null,null,80.0,56.0,null,null,82.0,null,null,69.0,null,null,76.0,null,76.0,null,82.0,null,null,null,null,66.0,null,null,null,68.0,null,68.0,null,null,null,null,null,null,null,null,78.0,null,null,81.0,null,null,72.0,null,78.0,81.0,null,59.0,null,61.0,63.0,63.0,null,82.0,null,51.0,59.0,68.0,null,59.0,70.0,69.0,null,80.0,null,null,54.0,null,null,78.0,78.0,null,null,null,63.0,null,null,null,78.0,null,73.0,81.0,79.0,null,null,49.0,null,null,null,null,null,null,null,null,78.0,null,57.0,77.0,null,60.0,66.0,57.0,68.0,null,57.0,null,null,null,null,null,78.0,57.0,58.0,59.0,null,null,null,78.0,null,78.0,75.0,null,null,null,58.0,58.0,null,null,78.0,null,null,65.0,null,null,71.0,null,79.0,64.0,null,null,null,null,61.0,79.0,74.0,null,74.0,71.0],\"type\":\"histogram\"},{\"histfunc\":\"count\",\"histnorm\":\"\",\"marker\":{\"color\":\"rgba(55, 128, 191, 1.0)\",\"line\":{\"color\":\"#4D5663\",\"width\":1.3}},\"name\":\"female_age\",\"nbinsx\":20,\"opacity\":0.8,\"orientation\":\"v\",\"x\":[null,null,49.0,79.0,null,null,69.0,78.0,81.0,61.0,54.0,79.0,50.0,null,null,60.0,71.0,52.0,79.0,null,null,null,65.0,null,null,null,82.0,null,null,82.0,null,72.0,null,49.0,null,null,null,null,null,58.0,null,39.0,79.0,77.0,null,82.0,null,54.0,56.0,80.0,67.0,45.0,null,70.0,null,null,80.0,67.0,66.0,null,52.0,80.0,null,79.0,null,null,79.0,68.0,null,null,70.0,null,null,79.0,null,57.0,80.0,null,78.0,70.0,null,null,69.0,null,77.0,74.0,81.0,57.0,50.0,54.0,79.0,53.0,null,null,68.0,null,null,null,38.0,77.0,58.0,53.0,null,null,72.0,80.0,null,73.0,78.0,null,68.0,71.0,null,76.0,null,75.0,null,59.0,74.0,69.0,72.0,null,78.0,57.0,70.0,null,80.0,null,55.0,77.0,50.0,57.0,71.0,81.0,78.0,70.0,null,56.0,79.0,null,60.0,80.0,null,80.0,null,null,46.0,null,32.0,null,null,null,82.0,null,65.0,null,null,null,72.0,null,null,null,74.0,null,77.0,78.0,null,78.0,81.0,null,null,63.0,39.0,51.0,null,48.0,81.0,79.0,null,55.0,null,null,null,63.0,81.0,null,57.0,81.0,39.0,80.0,81.0,79.0,73.0,77.0,null,68.0,null,null,51.0,null,null,null,null,68.0,null,14.0,75.0,78.0,61.0,59.0,null,null,null,null,63.0,75.0,76.0,null,63.0,null,null,76.0,51.0,66.0,null,null,76.0,72.0,null,75.0,38.0,null,79.0,76.0,null,1.32,null,null,79.0,78.0,80.0,77.0,null,null,null,76.0,null,null],\"type\":\"histogram\"}],                        {\"barmode\":\"overlay\",\"legend\":{\"bgcolor\":\"#FFFFFF\",\"font\":{\"color\":\"#4D5663\"}},\"paper_bgcolor\":\"#FFFFFF\",\"plot_bgcolor\":\"#FFFFFF\",\"template\":{\"data\":{\"barpolar\":[{\"marker\":{\"line\":{\"color\":\"#E5ECF6\",\"width\":0.5},\"pattern\":{\"fillmode\":\"overlay\",\"size\":10,\"solidity\":0.2}},\"type\":\"barpolar\"}],\"bar\":[{\"error_x\":{\"color\":\"#2a3f5f\"},\"error_y\":{\"color\":\"#2a3f5f\"},\"marker\":{\"line\":{\"color\":\"#E5ECF6\",\"width\":0.5},\"pattern\":{\"fillmode\":\"overlay\",\"size\":10,\"solidity\":0.2}},\"type\":\"bar\"}],\"carpet\":[{\"aaxis\":{\"endlinecolor\":\"#2a3f5f\",\"gridcolor\":\"white\",\"linecolor\":\"white\",\"minorgridcolor\":\"white\",\"startlinecolor\":\"#2a3f5f\"},\"baxis\":{\"endlinecolor\":\"#2a3f5f\",\"gridcolor\":\"white\",\"linecolor\":\"white\",\"minorgridcolor\":\"white\",\"startlinecolor\":\"#2a3f5f\"},\"type\":\"carpet\"}],\"choropleth\":[{\"colorbar\":{\"outlinewidth\":0,\"ticks\":\"\"},\"type\":\"choropleth\"}],\"contourcarpet\":[{\"colorbar\":{\"outlinewidth\":0,\"ticks\":\"\"},\"type\":\"contourcarpet\"}],\"contour\":[{\"colorbar\":{\"outlinewidth\":0,\"ticks\":\"\"},\"colorscale\":[[0.0,\"#0d0887\"],[0.1111111111111111,\"#46039f\"],[0.2222222222222222,\"#7201a8\"],[0.3333333333333333,\"#9c179e\"],[0.4444444444444444,\"#bd3786\"],[0.5555555555555556,\"#d8576b\"],[0.6666666666666666,\"#ed7953\"],[0.7777777777777778,\"#fb9f3a\"],[0.8888888888888888,\"#fdca26\"],[1.0,\"#f0f921\"]],\"type\":\"contour\"}],\"heatmapgl\":[{\"colorbar\":{\"outlinewidth\":0,\"ticks\":\"\"},\"colorscale\":[[0.0,\"#0d0887\"],[0.1111111111111111,\"#46039f\"],[0.2222222222222222,\"#7201a8\"],[0.3333333333333333,\"#9c179e\"],[0.4444444444444444,\"#bd3786\"],[0.5555555555555556,\"#d8576b\"],[0.6666666666666666,\"#ed7953\"],[0.7777777777777778,\"#fb9f3a\"],[0.8888888888888888,\"#fdca26\"],[1.0,\"#f0f921\"]],\"type\":\"heatmapgl\"}],\"heatmap\":[{\"colorbar\":{\"outlinewidth\":0,\"ticks\":\"\"},\"colorscale\":[[0.0,\"#0d0887\"],[0.1111111111111111,\"#46039f\"],[0.2222222222222222,\"#7201a8\"],[0.3333333333333333,\"#9c179e\"],[0.4444444444444444,\"#bd3786\"],[0.5555555555555556,\"#d8576b\"],[0.6666666666666666,\"#ed7953\"],[0.7777777777777778,\"#fb9f3a\"],[0.8888888888888888,\"#fdca26\"],[1.0,\"#f0f921\"]],\"type\":\"heatmap\"}],\"histogram2dcontour\":[{\"colorbar\":{\"outlinewidth\":0,\"ticks\":\"\"},\"colorscale\":[[0.0,\"#0d0887\"],[0.1111111111111111,\"#46039f\"],[0.2222222222222222,\"#7201a8\"],[0.3333333333333333,\"#9c179e\"],[0.4444444444444444,\"#bd3786\"],[0.5555555555555556,\"#d8576b\"],[0.6666666666666666,\"#ed7953\"],[0.7777777777777778,\"#fb9f3a\"],[0.8888888888888888,\"#fdca26\"],[1.0,\"#f0f921\"]],\"type\":\"histogram2dcontour\"}],\"histogram2d\":[{\"colorbar\":{\"outlinewidth\":0,\"ticks\":\"\"},\"colorscale\":[[0.0,\"#0d0887\"],[0.1111111111111111,\"#46039f\"],[0.2222222222222222,\"#7201a8\"],[0.3333333333333333,\"#9c179e\"],[0.4444444444444444,\"#bd3786\"],[0.5555555555555556,\"#d8576b\"],[0.6666666666666666,\"#ed7953\"],[0.7777777777777778,\"#fb9f3a\"],[0.8888888888888888,\"#fdca26\"],[1.0,\"#f0f921\"]],\"type\":\"histogram2d\"}],\"histogram\":[{\"marker\":{\"pattern\":{\"fillmode\":\"overlay\",\"size\":10,\"solidity\":0.2}},\"type\":\"histogram\"}],\"mesh3d\":[{\"colorbar\":{\"outlinewidth\":0,\"ticks\":\"\"},\"type\":\"mesh3d\"}],\"parcoords\":[{\"line\":{\"colorbar\":{\"outlinewidth\":0,\"ticks\":\"\"}},\"type\":\"parcoords\"}],\"pie\":[{\"automargin\":true,\"type\":\"pie\"}],\"scatter3d\":[{\"line\":{\"colorbar\":{\"outlinewidth\":0,\"ticks\":\"\"}},\"marker\":{\"colorbar\":{\"outlinewidth\":0,\"ticks\":\"\"}},\"type\":\"scatter3d\"}],\"scattercarpet\":[{\"marker\":{\"colorbar\":{\"outlinewidth\":0,\"ticks\":\"\"}},\"type\":\"scattercarpet\"}],\"scattergeo\":[{\"marker\":{\"colorbar\":{\"outlinewidth\":0,\"ticks\":\"\"}},\"type\":\"scattergeo\"}],\"scattergl\":[{\"marker\":{\"colorbar\":{\"outlinewidth\":0,\"ticks\":\"\"}},\"type\":\"scattergl\"}],\"scattermapbox\":[{\"marker\":{\"colorbar\":{\"outlinewidth\":0,\"ticks\":\"\"}},\"type\":\"scattermapbox\"}],\"scatterpolargl\":[{\"marker\":{\"colorbar\":{\"outlinewidth\":0,\"ticks\":\"\"}},\"type\":\"scatterpolargl\"}],\"scatterpolar\":[{\"marker\":{\"colorbar\":{\"outlinewidth\":0,\"ticks\":\"\"}},\"type\":\"scatterpolar\"}],\"scatter\":[{\"fillpattern\":{\"fillmode\":\"overlay\",\"size\":10,\"solidity\":0.2},\"type\":\"scatter\"}],\"scatterternary\":[{\"marker\":{\"colorbar\":{\"outlinewidth\":0,\"ticks\":\"\"}},\"type\":\"scatterternary\"}],\"surface\":[{\"colorbar\":{\"outlinewidth\":0,\"ticks\":\"\"},\"colorscale\":[[0.0,\"#0d0887\"],[0.1111111111111111,\"#46039f\"],[0.2222222222222222,\"#7201a8\"],[0.3333333333333333,\"#9c179e\"],[0.4444444444444444,\"#bd3786\"],[0.5555555555555556,\"#d8576b\"],[0.6666666666666666,\"#ed7953\"],[0.7777777777777778,\"#fb9f3a\"],[0.8888888888888888,\"#fdca26\"],[1.0,\"#f0f921\"]],\"type\":\"surface\"}],\"table\":[{\"cells\":{\"fill\":{\"color\":\"#EBF0F8\"},\"line\":{\"color\":\"white\"}},\"header\":{\"fill\":{\"color\":\"#C8D4E3\"},\"line\":{\"color\":\"white\"}},\"type\":\"table\"}]},\"layout\":{\"annotationdefaults\":{\"arrowcolor\":\"#2a3f5f\",\"arrowhead\":0,\"arrowwidth\":1},\"autotypenumbers\":\"strict\",\"coloraxis\":{\"colorbar\":{\"outlinewidth\":0,\"ticks\":\"\"}},\"colorscale\":{\"diverging\":[[0,\"#8e0152\"],[0.1,\"#c51b7d\"],[0.2,\"#de77ae\"],[0.3,\"#f1b6da\"],[0.4,\"#fde0ef\"],[0.5,\"#f7f7f7\"],[0.6,\"#e6f5d0\"],[0.7,\"#b8e186\"],[0.8,\"#7fbc41\"],[0.9,\"#4d9221\"],[1,\"#276419\"]],\"sequential\":[[0.0,\"#0d0887\"],[0.1111111111111111,\"#46039f\"],[0.2222222222222222,\"#7201a8\"],[0.3333333333333333,\"#9c179e\"],[0.4444444444444444,\"#bd3786\"],[0.5555555555555556,\"#d8576b\"],[0.6666666666666666,\"#ed7953\"],[0.7777777777777778,\"#fb9f3a\"],[0.8888888888888888,\"#fdca26\"],[1.0,\"#f0f921\"]],\"sequentialminus\":[[0.0,\"#0d0887\"],[0.1111111111111111,\"#46039f\"],[0.2222222222222222,\"#7201a8\"],[0.3333333333333333,\"#9c179e\"],[0.4444444444444444,\"#bd3786\"],[0.5555555555555556,\"#d8576b\"],[0.6666666666666666,\"#ed7953\"],[0.7777777777777778,\"#fb9f3a\"],[0.8888888888888888,\"#fdca26\"],[1.0,\"#f0f921\"]]},\"colorway\":[\"#636efa\",\"#EF553B\",\"#00cc96\",\"#ab63fa\",\"#FFA15A\",\"#19d3f3\",\"#FF6692\",\"#B6E880\",\"#FF97FF\",\"#FECB52\"],\"font\":{\"color\":\"#2a3f5f\"},\"geo\":{\"bgcolor\":\"white\",\"lakecolor\":\"white\",\"landcolor\":\"#E5ECF6\",\"showlakes\":true,\"showland\":true,\"subunitcolor\":\"white\"},\"hoverlabel\":{\"align\":\"left\"},\"hovermode\":\"closest\",\"mapbox\":{\"style\":\"light\"},\"paper_bgcolor\":\"white\",\"plot_bgcolor\":\"#E5ECF6\",\"polar\":{\"angularaxis\":{\"gridcolor\":\"white\",\"linecolor\":\"white\",\"ticks\":\"\"},\"bgcolor\":\"#E5ECF6\",\"radialaxis\":{\"gridcolor\":\"white\",\"linecolor\":\"white\",\"ticks\":\"\"}},\"scene\":{\"xaxis\":{\"backgroundcolor\":\"#E5ECF6\",\"gridcolor\":\"white\",\"gridwidth\":2,\"linecolor\":\"white\",\"showbackground\":true,\"ticks\":\"\",\"zerolinecolor\":\"white\"},\"yaxis\":{\"backgroundcolor\":\"#E5ECF6\",\"gridcolor\":\"white\",\"gridwidth\":2,\"linecolor\":\"white\",\"showbackground\":true,\"ticks\":\"\",\"zerolinecolor\":\"white\"},\"zaxis\":{\"backgroundcolor\":\"#E5ECF6\",\"gridcolor\":\"white\",\"gridwidth\":2,\"linecolor\":\"white\",\"showbackground\":true,\"ticks\":\"\",\"zerolinecolor\":\"white\"}},\"shapedefaults\":{\"line\":{\"color\":\"#2a3f5f\"}},\"ternary\":{\"aaxis\":{\"gridcolor\":\"white\",\"linecolor\":\"white\",\"ticks\":\"\"},\"baxis\":{\"gridcolor\":\"white\",\"linecolor\":\"white\",\"ticks\":\"\"},\"bgcolor\":\"#E5ECF6\",\"caxis\":{\"gridcolor\":\"white\",\"linecolor\":\"white\",\"ticks\":\"\"}},\"title\":{\"x\":0.05},\"xaxis\":{\"automargin\":true,\"gridcolor\":\"white\",\"linecolor\":\"white\",\"ticks\":\"\",\"title\":{\"standoff\":15},\"zerolinecolor\":\"white\",\"zerolinewidth\":2},\"yaxis\":{\"automargin\":true,\"gridcolor\":\"white\",\"linecolor\":\"white\",\"ticks\":\"\",\"title\":{\"standoff\":15},\"zerolinecolor\":\"white\",\"zerolinewidth\":2}}},\"title\":{\"font\":{\"color\":\"#4D5663\"},\"text\":\"Stroke Ages\"},\"xaxis\":{\"gridcolor\":\"#E1E5ED\",\"showgrid\":true,\"tickfont\":{\"color\":\"#4D5663\"},\"title\":{\"font\":{\"color\":\"#4D5663\"},\"text\":\"Ages\"},\"zerolinecolor\":\"#E1E5ED\"},\"yaxis\":{\"gridcolor\":\"#E1E5ED\",\"showgrid\":true,\"tickfont\":{\"color\":\"#4D5663\"},\"title\":{\"font\":{\"color\":\"#4D5663\"},\"text\":\"Count\"},\"zerolinecolor\":\"#E1E5ED\"}},                        {\"showLink\": true, \"linkText\": \"Export to plot.ly\", \"plotlyServerURL\": \"https://plot.ly\", \"responsive\": true}                    ).then(function(){\n",
       "                            \n",
       "var gd = document.getElementById('41b72f26-a412-451d-a728-2f3b4339c4d6');\n",
       "var x = new MutationObserver(function (mutations, observer) {{\n",
       "        var display = window.getComputedStyle(gd).display;\n",
       "        if (!display || display === 'none') {{\n",
       "            console.log([gd, 'removed!']);\n",
       "            Plotly.purge(gd);\n",
       "            observer.disconnect();\n",
       "        }}\n",
       "}});\n",
       "\n",
       "// Listen for the removal of the full notebook cells\n",
       "var notebookContainer = gd.closest('#notebook-container');\n",
       "if (notebookContainer) {{\n",
       "    x.observe(notebookContainer, {childList: true});\n",
       "}}\n",
       "\n",
       "// Listen for the clearing of the current output cell\n",
       "var outputEl = gd.closest('.output');\n",
       "if (outputEl) {{\n",
       "    x.observe(outputEl, {childList: true});\n",
       "}}\n",
       "\n",
       "                        })                };                });            </script>        </div>"
      ]
     },
     "metadata": {},
     "output_type": "display_data"
    }
   ],
   "source": [
    "stroke = df.loc[df['stroke']== 1].reset_index()\n",
    "\n",
    "stroke[\"male_age\"]=stroke[stroke[\"gender\"]==\"Male\"][\"age\"]\n",
    "stroke[\"female_age\"]=stroke[stroke[\"gender\"]==\"Female\"][\"age\"]\n",
    "stroke[[\"male_age\",\"female_age\"]].iplot(kind=\"histogram\", bins=20, theme=\"white\", title=\"Stroke Ages\",\n",
    "         xTitle='Ages', yTitle='Count')"
   ]
  },
  {
   "cell_type": "markdown",
   "id": "e740d90c",
   "metadata": {
    "papermill": {
     "duration": 0.021601,
     "end_time": "2022-08-10T05:37:54.323010",
     "exception": false,
     "start_time": "2022-08-10T05:37:54.301409",
     "status": "completed"
    },
    "tags": []
   },
   "source": [
    "You are able to turn on and off the gender for better vizualisation"
   ]
  },
  {
   "cell_type": "markdown",
   "id": "5416cb2d",
   "metadata": {
    "papermill": {
     "duration": 0.021523,
     "end_time": "2022-08-10T05:37:54.366698",
     "exception": false,
     "start_time": "2022-08-10T05:37:54.345175",
     "status": "completed"
    },
    "tags": []
   },
   "source": [
    "<a id=\"title-five\"></a>\n",
    "<h1 style='background:#C4F1E8; border:2; border-radius: 10px; color:black'><center>DATA PREPROCESSING</center></h1>"
   ]
  },
  {
   "cell_type": "markdown",
   "id": "72c7071e",
   "metadata": {
    "papermill": {
     "duration": 0.021471,
     "end_time": "2022-08-10T05:37:54.410165",
     "exception": false,
     "start_time": "2022-08-10T05:37:54.388694",
     "status": "completed"
    },
    "tags": []
   },
   "source": [
    "<h3 style='background:#F1C4EF; border:1; border-radius:10px; color:black'><center>Handling Categorical Columns</center></h3>"
   ]
  },
  {
   "cell_type": "markdown",
   "id": "0b123067",
   "metadata": {
    "papermill": {
     "duration": 0.021212,
     "end_time": "2022-08-10T05:37:54.452915",
     "exception": false,
     "start_time": "2022-08-10T05:37:54.431703",
     "status": "completed"
    },
    "tags": []
   },
   "source": []
  },
  {
   "cell_type": "code",
   "execution_count": 13,
   "id": "da230903",
   "metadata": {
    "execution": {
     "iopub.execute_input": "2022-08-10T05:37:54.498482Z",
     "iopub.status.busy": "2022-08-10T05:37:54.498070Z",
     "iopub.status.idle": "2022-08-10T05:37:54.521579Z",
     "shell.execute_reply": "2022-08-10T05:37:54.520738Z"
    },
    "papermill": {
     "duration": 0.049493,
     "end_time": "2022-08-10T05:37:54.524384",
     "exception": false,
     "start_time": "2022-08-10T05:37:54.474891",
     "status": "completed"
    },
    "tags": []
   },
   "outputs": [
    {
     "data": {
      "text/html": [
       "<div>\n",
       "<style scoped>\n",
       "    .dataframe tbody tr th:only-of-type {\n",
       "        vertical-align: middle;\n",
       "    }\n",
       "\n",
       "    .dataframe tbody tr th {\n",
       "        vertical-align: top;\n",
       "    }\n",
       "\n",
       "    .dataframe thead th {\n",
       "        text-align: right;\n",
       "    }\n",
       "</style>\n",
       "<table border=\"1\" class=\"dataframe\">\n",
       "  <thead>\n",
       "    <tr style=\"text-align: right;\">\n",
       "      <th></th>\n",
       "      <th>gender</th>\n",
       "      <th>age</th>\n",
       "      <th>hypertension</th>\n",
       "      <th>heart_disease</th>\n",
       "      <th>ever_married</th>\n",
       "      <th>work_type</th>\n",
       "      <th>Residence_type</th>\n",
       "      <th>avg_glucose_level</th>\n",
       "      <th>bmi</th>\n",
       "      <th>smoking_status</th>\n",
       "      <th>stroke</th>\n",
       "    </tr>\n",
       "  </thead>\n",
       "  <tbody>\n",
       "    <tr>\n",
       "      <th>0</th>\n",
       "      <td>0</td>\n",
       "      <td>67.0</td>\n",
       "      <td>0</td>\n",
       "      <td>1</td>\n",
       "      <td>1</td>\n",
       "      <td>Private</td>\n",
       "      <td>Urban</td>\n",
       "      <td>228.69</td>\n",
       "      <td>36.6</td>\n",
       "      <td>formerly smoked</td>\n",
       "      <td>1</td>\n",
       "    </tr>\n",
       "    <tr>\n",
       "      <th>1</th>\n",
       "      <td>0</td>\n",
       "      <td>80.0</td>\n",
       "      <td>0</td>\n",
       "      <td>1</td>\n",
       "      <td>1</td>\n",
       "      <td>Private</td>\n",
       "      <td>Rural</td>\n",
       "      <td>105.92</td>\n",
       "      <td>32.5</td>\n",
       "      <td>never smoked</td>\n",
       "      <td>1</td>\n",
       "    </tr>\n",
       "    <tr>\n",
       "      <th>2</th>\n",
       "      <td>1</td>\n",
       "      <td>49.0</td>\n",
       "      <td>0</td>\n",
       "      <td>0</td>\n",
       "      <td>1</td>\n",
       "      <td>Private</td>\n",
       "      <td>Urban</td>\n",
       "      <td>171.23</td>\n",
       "      <td>34.4</td>\n",
       "      <td>smokes</td>\n",
       "      <td>1</td>\n",
       "    </tr>\n",
       "    <tr>\n",
       "      <th>3</th>\n",
       "      <td>1</td>\n",
       "      <td>79.0</td>\n",
       "      <td>1</td>\n",
       "      <td>0</td>\n",
       "      <td>1</td>\n",
       "      <td>Self-employed</td>\n",
       "      <td>Rural</td>\n",
       "      <td>174.12</td>\n",
       "      <td>24.0</td>\n",
       "      <td>never smoked</td>\n",
       "      <td>1</td>\n",
       "    </tr>\n",
       "    <tr>\n",
       "      <th>4</th>\n",
       "      <td>0</td>\n",
       "      <td>81.0</td>\n",
       "      <td>0</td>\n",
       "      <td>0</td>\n",
       "      <td>1</td>\n",
       "      <td>Private</td>\n",
       "      <td>Urban</td>\n",
       "      <td>186.21</td>\n",
       "      <td>29.0</td>\n",
       "      <td>formerly smoked</td>\n",
       "      <td>1</td>\n",
       "    </tr>\n",
       "  </tbody>\n",
       "</table>\n",
       "</div>"
      ],
      "text/plain": [
       "   gender   age  hypertension  heart_disease  ever_married      work_type  \\\n",
       "0       0  67.0             0              1             1        Private   \n",
       "1       0  80.0             0              1             1        Private   \n",
       "2       1  49.0             0              0             1        Private   \n",
       "3       1  79.0             1              0             1  Self-employed   \n",
       "4       0  81.0             0              0             1        Private   \n",
       "\n",
       "  Residence_type  avg_glucose_level   bmi   smoking_status  stroke  \n",
       "0          Urban             228.69  36.6  formerly smoked       1  \n",
       "1          Rural             105.92  32.5     never smoked       1  \n",
       "2          Urban             171.23  34.4           smokes       1  \n",
       "3          Rural             174.12  24.0     never smoked       1  \n",
       "4          Urban             186.21  29.0  formerly smoked       1  "
      ]
     },
     "execution_count": 13,
     "metadata": {},
     "output_type": "execute_result"
    }
   ],
   "source": [
    "df['ever_married'] = [ 0 if i !='Yes' else 1 for i in df['ever_married'] ]\n",
    "df['gender'] = [0 if i != 'Female' else 1 for i in df['gender']]\n",
    "df.head(5)"
   ]
  },
  {
   "cell_type": "code",
   "execution_count": 14,
   "id": "ce63052c",
   "metadata": {
    "execution": {
     "iopub.execute_input": "2022-08-10T05:37:54.569790Z",
     "iopub.status.busy": "2022-08-10T05:37:54.569176Z",
     "iopub.status.idle": "2022-08-10T05:37:54.596268Z",
     "shell.execute_reply": "2022-08-10T05:37:54.595332Z"
    },
    "papermill": {
     "duration": 0.05267,
     "end_time": "2022-08-10T05:37:54.598578",
     "exception": false,
     "start_time": "2022-08-10T05:37:54.545908",
     "status": "completed"
    },
    "tags": []
   },
   "outputs": [
    {
     "data": {
      "text/html": [
       "<div>\n",
       "<style scoped>\n",
       "    .dataframe tbody tr th:only-of-type {\n",
       "        vertical-align: middle;\n",
       "    }\n",
       "\n",
       "    .dataframe tbody tr th {\n",
       "        vertical-align: top;\n",
       "    }\n",
       "\n",
       "    .dataframe thead th {\n",
       "        text-align: right;\n",
       "    }\n",
       "</style>\n",
       "<table border=\"1\" class=\"dataframe\">\n",
       "  <thead>\n",
       "    <tr style=\"text-align: right;\">\n",
       "      <th></th>\n",
       "      <th>gender</th>\n",
       "      <th>age</th>\n",
       "      <th>hypertension</th>\n",
       "      <th>heart_disease</th>\n",
       "      <th>ever_married</th>\n",
       "      <th>avg_glucose_level</th>\n",
       "      <th>bmi</th>\n",
       "      <th>stroke</th>\n",
       "      <th>work_type_Govt_job</th>\n",
       "      <th>work_type_Private</th>\n",
       "      <th>work_type_Self-employed</th>\n",
       "      <th>work_type_children</th>\n",
       "      <th>Residence_type_Rural</th>\n",
       "      <th>Residence_type_Urban</th>\n",
       "      <th>smoking_status_Unknown</th>\n",
       "      <th>smoking_status_formerly smoked</th>\n",
       "      <th>smoking_status_never smoked</th>\n",
       "      <th>smoking_status_smokes</th>\n",
       "    </tr>\n",
       "  </thead>\n",
       "  <tbody>\n",
       "    <tr>\n",
       "      <th>592</th>\n",
       "      <td>1</td>\n",
       "      <td>28.0</td>\n",
       "      <td>0</td>\n",
       "      <td>0</td>\n",
       "      <td>1</td>\n",
       "      <td>64.64</td>\n",
       "      <td>22.1</td>\n",
       "      <td>0</td>\n",
       "      <td>0</td>\n",
       "      <td>1</td>\n",
       "      <td>0</td>\n",
       "      <td>0</td>\n",
       "      <td>1</td>\n",
       "      <td>0</td>\n",
       "      <td>0</td>\n",
       "      <td>0</td>\n",
       "      <td>1</td>\n",
       "      <td>0</td>\n",
       "    </tr>\n",
       "    <tr>\n",
       "      <th>1932</th>\n",
       "      <td>1</td>\n",
       "      <td>53.0</td>\n",
       "      <td>0</td>\n",
       "      <td>0</td>\n",
       "      <td>1</td>\n",
       "      <td>72.49</td>\n",
       "      <td>38.5</td>\n",
       "      <td>0</td>\n",
       "      <td>0</td>\n",
       "      <td>0</td>\n",
       "      <td>1</td>\n",
       "      <td>0</td>\n",
       "      <td>1</td>\n",
       "      <td>0</td>\n",
       "      <td>0</td>\n",
       "      <td>0</td>\n",
       "      <td>1</td>\n",
       "      <td>0</td>\n",
       "    </tr>\n",
       "    <tr>\n",
       "      <th>4603</th>\n",
       "      <td>1</td>\n",
       "      <td>47.0</td>\n",
       "      <td>0</td>\n",
       "      <td>0</td>\n",
       "      <td>1</td>\n",
       "      <td>135.79</td>\n",
       "      <td>32.1</td>\n",
       "      <td>0</td>\n",
       "      <td>1</td>\n",
       "      <td>0</td>\n",
       "      <td>0</td>\n",
       "      <td>0</td>\n",
       "      <td>0</td>\n",
       "      <td>1</td>\n",
       "      <td>0</td>\n",
       "      <td>1</td>\n",
       "      <td>0</td>\n",
       "      <td>0</td>\n",
       "    </tr>\n",
       "    <tr>\n",
       "      <th>3143</th>\n",
       "      <td>1</td>\n",
       "      <td>78.0</td>\n",
       "      <td>1</td>\n",
       "      <td>0</td>\n",
       "      <td>0</td>\n",
       "      <td>198.12</td>\n",
       "      <td>29.1</td>\n",
       "      <td>0</td>\n",
       "      <td>0</td>\n",
       "      <td>0</td>\n",
       "      <td>1</td>\n",
       "      <td>0</td>\n",
       "      <td>1</td>\n",
       "      <td>0</td>\n",
       "      <td>0</td>\n",
       "      <td>0</td>\n",
       "      <td>1</td>\n",
       "      <td>0</td>\n",
       "    </tr>\n",
       "    <tr>\n",
       "      <th>4512</th>\n",
       "      <td>0</td>\n",
       "      <td>32.0</td>\n",
       "      <td>0</td>\n",
       "      <td>0</td>\n",
       "      <td>1</td>\n",
       "      <td>83.01</td>\n",
       "      <td>25.8</td>\n",
       "      <td>0</td>\n",
       "      <td>1</td>\n",
       "      <td>0</td>\n",
       "      <td>0</td>\n",
       "      <td>0</td>\n",
       "      <td>1</td>\n",
       "      <td>0</td>\n",
       "      <td>0</td>\n",
       "      <td>0</td>\n",
       "      <td>0</td>\n",
       "      <td>1</td>\n",
       "    </tr>\n",
       "  </tbody>\n",
       "</table>\n",
       "</div>"
      ],
      "text/plain": [
       "      gender   age  hypertension  heart_disease  ever_married  \\\n",
       "592        1  28.0             0              0             1   \n",
       "1932       1  53.0             0              0             1   \n",
       "4603       1  47.0             0              0             1   \n",
       "3143       1  78.0             1              0             0   \n",
       "4512       0  32.0             0              0             1   \n",
       "\n",
       "      avg_glucose_level   bmi  stroke  work_type_Govt_job  work_type_Private  \\\n",
       "592               64.64  22.1       0                   0                  1   \n",
       "1932              72.49  38.5       0                   0                  0   \n",
       "4603             135.79  32.1       0                   1                  0   \n",
       "3143             198.12  29.1       0                   0                  0   \n",
       "4512              83.01  25.8       0                   1                  0   \n",
       "\n",
       "      work_type_Self-employed  work_type_children  Residence_type_Rural  \\\n",
       "592                         0                   0                     1   \n",
       "1932                        1                   0                     1   \n",
       "4603                        0                   0                     0   \n",
       "3143                        1                   0                     1   \n",
       "4512                        0                   0                     1   \n",
       "\n",
       "      Residence_type_Urban  smoking_status_Unknown  \\\n",
       "592                      0                       0   \n",
       "1932                     0                       0   \n",
       "4603                     1                       0   \n",
       "3143                     0                       0   \n",
       "4512                     0                       0   \n",
       "\n",
       "      smoking_status_formerly smoked  smoking_status_never smoked  \\\n",
       "592                                0                            1   \n",
       "1932                               0                            1   \n",
       "4603                               1                            0   \n",
       "3143                               0                            1   \n",
       "4512                               0                            0   \n",
       "\n",
       "      smoking_status_smokes  \n",
       "592                       0  \n",
       "1932                      0  \n",
       "4603                      0  \n",
       "3143                      0  \n",
       "4512                      1  "
      ]
     },
     "execution_count": 14,
     "metadata": {},
     "output_type": "execute_result"
    }
   ],
   "source": [
    "df = pd.get_dummies(df, columns = ['work_type', 'Residence_type','smoking_status'])\n",
    "df.sample(5)"
   ]
  },
  {
   "cell_type": "code",
   "execution_count": 15,
   "id": "e2447950",
   "metadata": {
    "execution": {
     "iopub.execute_input": "2022-08-10T05:37:54.644599Z",
     "iopub.status.busy": "2022-08-10T05:37:54.643941Z",
     "iopub.status.idle": "2022-08-10T05:37:54.655645Z",
     "shell.execute_reply": "2022-08-10T05:37:54.654323Z"
    },
    "papermill": {
     "duration": 0.037709,
     "end_time": "2022-08-10T05:37:54.658182",
     "exception": false,
     "start_time": "2022-08-10T05:37:54.620473",
     "status": "completed"
    },
    "tags": []
   },
   "outputs": [
    {
     "data": {
      "text/plain": [
       "gender                            0\n",
       "age                               0\n",
       "hypertension                      0\n",
       "heart_disease                     0\n",
       "ever_married                      0\n",
       "avg_glucose_level                 0\n",
       "bmi                               0\n",
       "stroke                            0\n",
       "work_type_Govt_job                0\n",
       "work_type_Private                 0\n",
       "work_type_Self-employed           0\n",
       "work_type_children                0\n",
       "Residence_type_Rural              0\n",
       "Residence_type_Urban              0\n",
       "smoking_status_Unknown            0\n",
       "smoking_status_formerly smoked    0\n",
       "smoking_status_never smoked       0\n",
       "smoking_status_smokes             0\n",
       "dtype: int64"
      ]
     },
     "execution_count": 15,
     "metadata": {},
     "output_type": "execute_result"
    }
   ],
   "source": [
    "df.isnull().sum()"
   ]
  },
  {
   "cell_type": "markdown",
   "id": "d1b39ed6",
   "metadata": {
    "papermill": {
     "duration": 0.022399,
     "end_time": "2022-08-10T05:37:54.702617",
     "exception": false,
     "start_time": "2022-08-10T05:37:54.680218",
     "status": "completed"
    },
    "tags": []
   },
   "source": [
    "Let's see of the data is imbalanced or not?"
   ]
  },
  {
   "cell_type": "code",
   "execution_count": 16,
   "id": "aa608a72",
   "metadata": {
    "execution": {
     "iopub.execute_input": "2022-08-10T05:37:54.749489Z",
     "iopub.status.busy": "2022-08-10T05:37:54.748583Z",
     "iopub.status.idle": "2022-08-10T05:37:54.758123Z",
     "shell.execute_reply": "2022-08-10T05:37:54.757003Z"
    },
    "papermill": {
     "duration": 0.035941,
     "end_time": "2022-08-10T05:37:54.760560",
     "exception": false,
     "start_time": "2022-08-10T05:37:54.724619",
     "status": "completed"
    },
    "tags": []
   },
   "outputs": [
    {
     "data": {
      "text/plain": [
       "0    4733\n",
       "1     248\n",
       "Name: stroke, dtype: int64"
      ]
     },
     "execution_count": 16,
     "metadata": {},
     "output_type": "execute_result"
    }
   ],
   "source": [
    "df['stroke'].value_counts()"
   ]
  },
  {
   "cell_type": "markdown",
   "id": "a4fb07a6",
   "metadata": {
    "papermill": {
     "duration": 0.022156,
     "end_time": "2022-08-10T05:37:54.804926",
     "exception": false,
     "start_time": "2022-08-10T05:37:54.782770",
     "status": "completed"
    },
    "tags": []
   },
   "source": [
    "<h3 style='background:#F1C4EF; border:1; border-radius:10px; color:black'><center>Target and Feature values / Train Test Split</center></h3>"
   ]
  },
  {
   "cell_type": "code",
   "execution_count": 17,
   "id": "ed5cbcac",
   "metadata": {
    "execution": {
     "iopub.execute_input": "2022-08-10T05:37:54.850986Z",
     "iopub.status.busy": "2022-08-10T05:37:54.850535Z",
     "iopub.status.idle": "2022-08-10T05:37:54.857880Z",
     "shell.execute_reply": "2022-08-10T05:37:54.856563Z"
    },
    "papermill": {
     "duration": 0.033639,
     "end_time": "2022-08-10T05:37:54.860623",
     "exception": false,
     "start_time": "2022-08-10T05:37:54.826984",
     "status": "completed"
    },
    "tags": []
   },
   "outputs": [],
   "source": [
    "X = df.drop(['stroke'], axis = 1)\n",
    "y = df['stroke']"
   ]
  },
  {
   "cell_type": "code",
   "execution_count": 18,
   "id": "5624b3d5",
   "metadata": {
    "execution": {
     "iopub.execute_input": "2022-08-10T05:37:54.907008Z",
     "iopub.status.busy": "2022-08-10T05:37:54.906566Z",
     "iopub.status.idle": "2022-08-10T05:37:54.916915Z",
     "shell.execute_reply": "2022-08-10T05:37:54.915887Z"
    },
    "papermill": {
     "duration": 0.036497,
     "end_time": "2022-08-10T05:37:54.919355",
     "exception": false,
     "start_time": "2022-08-10T05:37:54.882858",
     "status": "completed"
    },
    "tags": []
   },
   "outputs": [
    {
     "data": {
      "text/plain": [
       "((3337, 17), (1644, 17))"
      ]
     },
     "execution_count": 18,
     "metadata": {},
     "output_type": "execute_result"
    }
   ],
   "source": [
    "X_train, X_test, y_train , y_test = train_test_split(X,y, test_size = 0.33, random_state = 42)\n",
    "X_train.shape, X_test.shape"
   ]
  },
  {
   "cell_type": "markdown",
   "id": "f5fd750d",
   "metadata": {
    "papermill": {
     "duration": 0.022339,
     "end_time": "2022-08-10T05:37:54.964174",
     "exception": false,
     "start_time": "2022-08-10T05:37:54.941835",
     "status": "completed"
    },
    "tags": []
   },
   "source": [
    "<a id=\"title-six\"></a>\n",
    "<h1 style='background:#C4F1E8; border:2; border-radius: 10px; color:black'><center>MODEL BUILDING</center></h1>"
   ]
  },
  {
   "cell_type": "markdown",
   "id": "9d0e2a8b",
   "metadata": {
    "papermill": {
     "duration": 0.021938,
     "end_time": "2022-08-10T05:37:55.008972",
     "exception": false,
     "start_time": "2022-08-10T05:37:54.987034",
     "status": "completed"
    },
    "tags": []
   },
   "source": [
    "<h3 style='background:#F1C4EF; border:1; border-radius:10px; color:black'><center>Decisiontree Classifier and Gini method</center></h3>"
   ]
  },
  {
   "cell_type": "code",
   "execution_count": 19,
   "id": "7f78a612",
   "metadata": {
    "execution": {
     "iopub.execute_input": "2022-08-10T05:37:55.056435Z",
     "iopub.status.busy": "2022-08-10T05:37:55.055189Z",
     "iopub.status.idle": "2022-08-10T05:37:55.077394Z",
     "shell.execute_reply": "2022-08-10T05:37:55.076323Z"
    },
    "papermill": {
     "duration": 0.048065,
     "end_time": "2022-08-10T05:37:55.079616",
     "exception": false,
     "start_time": "2022-08-10T05:37:55.031551",
     "status": "completed"
    },
    "tags": []
   },
   "outputs": [
    {
     "data": {
      "text/plain": [
       "DecisionTreeClassifier(max_depth=5, random_state=0)"
      ]
     },
     "execution_count": 19,
     "metadata": {},
     "output_type": "execute_result"
    }
   ],
   "source": [
    "clf_gini = DecisionTreeClassifier(criterion='gini', random_state=0,max_depth= 5)\n",
    "clf_gini.fit(X_train, y_train)"
   ]
  },
  {
   "cell_type": "markdown",
   "id": "76a65de3",
   "metadata": {
    "papermill": {
     "duration": 0.022371,
     "end_time": "2022-08-10T05:37:55.124541",
     "exception": false,
     "start_time": "2022-08-10T05:37:55.102170",
     "status": "completed"
    },
    "tags": []
   },
   "source": [
    "<h3 style='background:#F1C4EF; border:1; border-radius:10px; color:black'><center>Model accuracy score</center></h3>"
   ]
  },
  {
   "cell_type": "code",
   "execution_count": 20,
   "id": "9e4352f0",
   "metadata": {
    "execution": {
     "iopub.execute_input": "2022-08-10T05:37:55.171544Z",
     "iopub.status.busy": "2022-08-10T05:37:55.171093Z",
     "iopub.status.idle": "2022-08-10T05:37:55.180241Z",
     "shell.execute_reply": "2022-08-10T05:37:55.179011Z"
    },
    "papermill": {
     "duration": 0.035403,
     "end_time": "2022-08-10T05:37:55.182583",
     "exception": false,
     "start_time": "2022-08-10T05:37:55.147180",
     "status": "completed"
    },
    "tags": []
   },
   "outputs": [
    {
     "data": {
      "text/plain": [
       "0    4733\n",
       "1     248\n",
       "Name: stroke, dtype: int64"
      ]
     },
     "execution_count": 20,
     "metadata": {},
     "output_type": "execute_result"
    }
   ],
   "source": [
    "df['stroke'].value_counts()"
   ]
  },
  {
   "cell_type": "markdown",
   "id": "59d4a833",
   "metadata": {
    "papermill": {
     "duration": 0.022343,
     "end_time": "2022-08-10T05:37:55.227578",
     "exception": false,
     "start_time": "2022-08-10T05:37:55.205235",
     "status": "completed"
    },
    "tags": []
   },
   "source": [
    "### The confusion  matrix and classification report shows that the model prediction is not going to be acceptable as the data is imbalance. The model predicted 81 Flase Negative which means that we did not predict 81 cases which are going to have stroke! Then it is a disaster!"
   ]
  },
  {
   "cell_type": "markdown",
   "id": "6402d52a",
   "metadata": {
    "papermill": {
     "duration": 0.022379,
     "end_time": "2022-08-10T05:37:55.272669",
     "exception": false,
     "start_time": "2022-08-10T05:37:55.250290",
     "status": "completed"
    },
    "tags": []
   },
   "source": [
    "<h3 style='background:#F1C4EF; border:1; border-radius:10px; color:black'><center>Under Sampling the data</center></h3>"
   ]
  },
  {
   "cell_type": "markdown",
   "id": "a58e537c",
   "metadata": {
    "papermill": {
     "duration": 0.022307,
     "end_time": "2022-08-10T05:37:55.317698",
     "exception": false,
     "start_time": "2022-08-10T05:37:55.295391",
     "status": "completed"
    },
    "tags": []
   },
   "source": [
    "#### To fix this issue, I decided to undersample the data:"
   ]
  },
  {
   "cell_type": "code",
   "execution_count": 21,
   "id": "bca6667e",
   "metadata": {
    "execution": {
     "iopub.execute_input": "2022-08-10T05:37:55.365223Z",
     "iopub.status.busy": "2022-08-10T05:37:55.364797Z",
     "iopub.status.idle": "2022-08-10T05:37:55.380894Z",
     "shell.execute_reply": "2022-08-10T05:37:55.379638Z"
    },
    "papermill": {
     "duration": 0.04288,
     "end_time": "2022-08-10T05:37:55.383168",
     "exception": false,
     "start_time": "2022-08-10T05:37:55.340288",
     "status": "completed"
    },
    "tags": []
   },
   "outputs": [
    {
     "name": "stdout",
     "output_type": "stream",
     "text": [
      "[(0, 248), (1, 248)]\n"
     ]
    }
   ],
   "source": [
    "undersample = RandomUnderSampler(sampling_strategy='majority')\n",
    "X_under, y_under = undersample.fit_resample(X, y)\n",
    "print(sorted(Counter(y_under).items()))"
   ]
  },
  {
   "cell_type": "markdown",
   "id": "1991c816",
   "metadata": {
    "papermill": {
     "duration": 0.022696,
     "end_time": "2022-08-10T05:37:55.428551",
     "exception": false,
     "start_time": "2022-08-10T05:37:55.405855",
     "status": "completed"
    },
    "tags": []
   },
   "source": [
    "#### Splitting the new train and test using our undersampled data"
   ]
  },
  {
   "cell_type": "code",
   "execution_count": 22,
   "id": "f7ac9b7b",
   "metadata": {
    "execution": {
     "iopub.execute_input": "2022-08-10T05:37:55.476908Z",
     "iopub.status.busy": "2022-08-10T05:37:55.476045Z",
     "iopub.status.idle": "2022-08-10T05:37:55.488040Z",
     "shell.execute_reply": "2022-08-10T05:37:55.486773Z"
    },
    "papermill": {
     "duration": 0.039617,
     "end_time": "2022-08-10T05:37:55.490941",
     "exception": false,
     "start_time": "2022-08-10T05:37:55.451324",
     "status": "completed"
    },
    "tags": []
   },
   "outputs": [
    {
     "data": {
      "text/plain": [
       "((332, 17), (164, 17))"
      ]
     },
     "execution_count": 22,
     "metadata": {},
     "output_type": "execute_result"
    }
   ],
   "source": [
    "X_train_rs, X_test_rs, y_train_rs , y_test_rs = train_test_split(X_under,y_under, test_size = 0.33, random_state = 43)\n",
    "X_train_rs.shape, X_test_rs.shape"
   ]
  },
  {
   "cell_type": "markdown",
   "id": "fc6443b6",
   "metadata": {
    "papermill": {
     "duration": 0.024092,
     "end_time": "2022-08-10T05:37:55.537794",
     "exception": false,
     "start_time": "2022-08-10T05:37:55.513702",
     "status": "completed"
    },
    "tags": []
   },
   "source": [
    "#### Fitting the model again:"
   ]
  },
  {
   "cell_type": "code",
   "execution_count": 23,
   "id": "277b116a",
   "metadata": {
    "execution": {
     "iopub.execute_input": "2022-08-10T05:37:55.586983Z",
     "iopub.status.busy": "2022-08-10T05:37:55.586536Z",
     "iopub.status.idle": "2022-08-10T05:37:55.599074Z",
     "shell.execute_reply": "2022-08-10T05:37:55.597796Z"
    },
    "papermill": {
     "duration": 0.04055,
     "end_time": "2022-08-10T05:37:55.602154",
     "exception": false,
     "start_time": "2022-08-10T05:37:55.561604",
     "status": "completed"
    },
    "tags": []
   },
   "outputs": [
    {
     "data": {
      "text/plain": [
       "DecisionTreeClassifier(max_depth=5, random_state=0)"
      ]
     },
     "execution_count": 23,
     "metadata": {},
     "output_type": "execute_result"
    }
   ],
   "source": [
    "clf_gini.fit(X_train_rs,y_train_rs)"
   ]
  },
  {
   "cell_type": "markdown",
   "id": "cf74a432",
   "metadata": {
    "papermill": {
     "duration": 0.022834,
     "end_time": "2022-08-10T05:37:55.648608",
     "exception": false,
     "start_time": "2022-08-10T05:37:55.625774",
     "status": "completed"
    },
    "tags": []
   },
   "source": [
    "#### And prediction:"
   ]
  },
  {
   "cell_type": "code",
   "execution_count": 24,
   "id": "d4234847",
   "metadata": {
    "execution": {
     "iopub.execute_input": "2022-08-10T05:37:55.697746Z",
     "iopub.status.busy": "2022-08-10T05:37:55.696665Z",
     "iopub.status.idle": "2022-08-10T05:37:55.713357Z",
     "shell.execute_reply": "2022-08-10T05:37:55.711831Z"
    },
    "papermill": {
     "duration": 0.043947,
     "end_time": "2022-08-10T05:37:55.716046",
     "exception": false,
     "start_time": "2022-08-10T05:37:55.672099",
     "status": "completed"
    },
    "tags": []
   },
   "outputs": [
    {
     "name": "stdout",
     "output_type": "stream",
     "text": [
      "[[55 28]\n",
      " [21 60]]\n",
      "The classification report is:\n",
      "              precision    recall  f1-score   support\n",
      "\n",
      "           0       0.72      0.66      0.69        83\n",
      "           1       0.68      0.74      0.71        81\n",
      "\n",
      "    accuracy                           0.70       164\n",
      "   macro avg       0.70      0.70      0.70       164\n",
      "weighted avg       0.70      0.70      0.70       164\n",
      "\n"
     ]
    }
   ],
   "source": [
    "y_pred_rs = clf_gini.predict(X_test_rs)\n",
    "print(confusion_matrix(y_test_rs,y_pred_rs))\n",
    "print('The classification report is:\\n{:}'.format(classification_report(y_test_rs,y_pred_rs)))"
   ]
  },
  {
   "cell_type": "markdown",
   "id": "701e8393",
   "metadata": {
    "papermill": {
     "duration": 0.022989,
     "end_time": "2022-08-10T05:37:55.762585",
     "exception": false,
     "start_time": "2022-08-10T05:37:55.739596",
     "status": "completed"
    },
    "tags": []
   },
   "source": [
    "#### Now the data is balanced but the model prediction si not good as enough. let's see what happened if we fit the random forest classifier:\n"
   ]
  },
  {
   "cell_type": "markdown",
   "id": "2f15d749",
   "metadata": {
    "papermill": {
     "duration": 0.022872,
     "end_time": "2022-08-10T05:37:55.808614",
     "exception": false,
     "start_time": "2022-08-10T05:37:55.785742",
     "status": "completed"
    },
    "tags": []
   },
   "source": [
    "<h3 style='background:#F1C4EF; border:1; border-radius:10px; color:black'><center>Random Forest Classifier</center></h3>"
   ]
  },
  {
   "cell_type": "code",
   "execution_count": 25,
   "id": "230e80ce",
   "metadata": {
    "execution": {
     "iopub.execute_input": "2022-08-10T05:37:55.856275Z",
     "iopub.status.busy": "2022-08-10T05:37:55.855863Z",
     "iopub.status.idle": "2022-08-10T05:37:56.029539Z",
     "shell.execute_reply": "2022-08-10T05:37:56.028355Z"
    },
    "papermill": {
     "duration": 0.200504,
     "end_time": "2022-08-10T05:37:56.032092",
     "exception": false,
     "start_time": "2022-08-10T05:37:55.831588",
     "status": "completed"
    },
    "tags": []
   },
   "outputs": [
    {
     "data": {
      "text/plain": [
       "RandomForestClassifier()"
      ]
     },
     "execution_count": 25,
     "metadata": {},
     "output_type": "execute_result"
    }
   ],
   "source": [
    "rfc = RandomForestClassifier()\n",
    "rfc.fit(X_train_rs,y_train_rs)"
   ]
  },
  {
   "cell_type": "code",
   "execution_count": 26,
   "id": "74b6398b",
   "metadata": {
    "execution": {
     "iopub.execute_input": "2022-08-10T05:37:56.080112Z",
     "iopub.status.busy": "2022-08-10T05:37:56.079668Z",
     "iopub.status.idle": "2022-08-10T05:37:56.104991Z",
     "shell.execute_reply": "2022-08-10T05:37:56.103746Z"
    },
    "papermill": {
     "duration": 0.052631,
     "end_time": "2022-08-10T05:37:56.107739",
     "exception": false,
     "start_time": "2022-08-10T05:37:56.055108",
     "status": "completed"
    },
    "tags": []
   },
   "outputs": [
    {
     "name": "stdout",
     "output_type": "stream",
     "text": [
      "[[58 25]\n",
      " [10 71]]\n"
     ]
    }
   ],
   "source": [
    "y_pred_rfc = rfc.predict(X_test_rs)\n",
    "print(confusion_matrix(y_test_rs,y_pred_rfc))"
   ]
  },
  {
   "cell_type": "markdown",
   "id": "b2e76b61",
   "metadata": {
    "papermill": {
     "duration": 0.022972,
     "end_time": "2022-08-10T05:37:56.153935",
     "exception": false,
     "start_time": "2022-08-10T05:37:56.130963",
     "status": "completed"
    },
    "tags": []
   },
   "source": [
    "#### a little better, Now let's do the hyperparameter tuning"
   ]
  },
  {
   "cell_type": "markdown",
   "id": "03553c65",
   "metadata": {
    "papermill": {
     "duration": 0.02336,
     "end_time": "2022-08-10T05:37:56.200397",
     "exception": false,
     "start_time": "2022-08-10T05:37:56.177037",
     "status": "completed"
    },
    "tags": []
   },
   "source": [
    "<h3 style='background:#F1C4EF; border:1; border-radius:10px; color:black'><center>Hyperparameter tuning</center></h3>"
   ]
  },
  {
   "cell_type": "code",
   "execution_count": 27,
   "id": "ea57a556",
   "metadata": {
    "_kg_hide-output": true,
    "execution": {
     "iopub.execute_input": "2022-08-10T05:37:56.248805Z",
     "iopub.status.busy": "2022-08-10T05:37:56.248332Z",
     "iopub.status.idle": "2022-08-10T05:38:06.549368Z",
     "shell.execute_reply": "2022-08-10T05:38:06.548141Z"
    },
    "papermill": {
     "duration": 10.328766,
     "end_time": "2022-08-10T05:38:06.552270",
     "exception": false,
     "start_time": "2022-08-10T05:37:56.223504",
     "status": "completed"
    },
    "tags": []
   },
   "outputs": [
    {
     "name": "stdout",
     "output_type": "stream",
     "text": [
      "Fitting 5 folds for each of 10 candidates, totalling 50 fits\n",
      "[CV] END criterion=gini, max_depth=4, min_samples_leaf=4, min_samples_split=6, n_estimators=90; total time=   0.2s\n",
      "[CV] END criterion=gini, max_depth=4, min_samples_leaf=4, min_samples_split=6, n_estimators=90; total time=   0.1s\n",
      "[CV] END criterion=gini, max_depth=4, min_samples_leaf=4, min_samples_split=6, n_estimators=90; total time=   0.2s\n",
      "[CV] END criterion=gini, max_depth=4, min_samples_leaf=4, min_samples_split=6, n_estimators=90; total time=   0.1s\n",
      "[CV] END criterion=gini, max_depth=4, min_samples_leaf=4, min_samples_split=6, n_estimators=90; total time=   0.1s\n",
      "[CV] END criterion=gini, max_depth=16, min_samples_leaf=9, min_samples_split=8, n_estimators=90; total time=   0.1s\n",
      "[CV] END criterion=gini, max_depth=16, min_samples_leaf=9, min_samples_split=8, n_estimators=90; total time=   0.2s\n",
      "[CV] END criterion=gini, max_depth=16, min_samples_leaf=9, min_samples_split=8, n_estimators=90; total time=   0.2s\n",
      "[CV] END criterion=gini, max_depth=16, min_samples_leaf=9, min_samples_split=8, n_estimators=90; total time=   0.2s\n",
      "[CV] END criterion=gini, max_depth=16, min_samples_leaf=9, min_samples_split=8, n_estimators=90; total time=   0.2s\n",
      "[CV] END criterion=gini, max_depth=16, min_samples_leaf=5, min_samples_split=7, n_estimators=100; total time=   0.2s\n",
      "[CV] END criterion=gini, max_depth=16, min_samples_leaf=5, min_samples_split=7, n_estimators=100; total time=   0.2s\n",
      "[CV] END criterion=gini, max_depth=16, min_samples_leaf=5, min_samples_split=7, n_estimators=100; total time=   0.2s\n",
      "[CV] END criterion=gini, max_depth=16, min_samples_leaf=5, min_samples_split=7, n_estimators=100; total time=   0.2s\n",
      "[CV] END criterion=gini, max_depth=16, min_samples_leaf=5, min_samples_split=7, n_estimators=100; total time=   0.2s\n",
      "[CV] END criterion=gini, max_depth=16, min_samples_leaf=4, min_samples_split=8, n_estimators=100; total time=   0.2s\n",
      "[CV] END criterion=gini, max_depth=16, min_samples_leaf=4, min_samples_split=8, n_estimators=100; total time=   0.2s\n",
      "[CV] END criterion=gini, max_depth=16, min_samples_leaf=4, min_samples_split=8, n_estimators=100; total time=   0.2s\n",
      "[CV] END criterion=gini, max_depth=16, min_samples_leaf=4, min_samples_split=8, n_estimators=100; total time=   0.2s\n",
      "[CV] END criterion=gini, max_depth=16, min_samples_leaf=4, min_samples_split=8, n_estimators=100; total time=   0.2s\n",
      "[CV] END criterion=gini, max_depth=12, min_samples_leaf=5, min_samples_split=4, n_estimators=115; total time=   0.2s\n",
      "[CV] END criterion=gini, max_depth=12, min_samples_leaf=5, min_samples_split=4, n_estimators=115; total time=   0.2s\n",
      "[CV] END criterion=gini, max_depth=12, min_samples_leaf=5, min_samples_split=4, n_estimators=115; total time=   0.2s\n",
      "[CV] END criterion=gini, max_depth=12, min_samples_leaf=5, min_samples_split=4, n_estimators=115; total time=   0.2s\n",
      "[CV] END criterion=gini, max_depth=12, min_samples_leaf=5, min_samples_split=4, n_estimators=115; total time=   0.2s\n",
      "[CV] END criterion=gini, max_depth=10, min_samples_leaf=6, min_samples_split=4, n_estimators=115; total time=   0.2s\n",
      "[CV] END criterion=gini, max_depth=10, min_samples_leaf=6, min_samples_split=4, n_estimators=115; total time=   0.2s\n",
      "[CV] END criterion=gini, max_depth=10, min_samples_leaf=6, min_samples_split=4, n_estimators=115; total time=   0.2s\n",
      "[CV] END criterion=gini, max_depth=10, min_samples_leaf=6, min_samples_split=4, n_estimators=115; total time=   0.2s\n",
      "[CV] END criterion=gini, max_depth=10, min_samples_leaf=6, min_samples_split=4, n_estimators=115; total time=   0.2s\n",
      "[CV] END criterion=gini, max_depth=17, min_samples_leaf=9, min_samples_split=4, n_estimators=200; total time=   0.3s\n",
      "[CV] END criterion=gini, max_depth=17, min_samples_leaf=9, min_samples_split=4, n_estimators=200; total time=   0.3s\n",
      "[CV] END criterion=gini, max_depth=17, min_samples_leaf=9, min_samples_split=4, n_estimators=200; total time=   0.3s\n",
      "[CV] END criterion=gini, max_depth=17, min_samples_leaf=9, min_samples_split=4, n_estimators=200; total time=   0.4s\n",
      "[CV] END criterion=gini, max_depth=17, min_samples_leaf=9, min_samples_split=4, n_estimators=200; total time=   0.3s\n",
      "[CV] END criterion=gini, max_depth=19, min_samples_leaf=4, min_samples_split=7, n_estimators=90; total time=   0.2s\n",
      "[CV] END criterion=gini, max_depth=19, min_samples_leaf=4, min_samples_split=7, n_estimators=90; total time=   0.2s\n",
      "[CV] END criterion=gini, max_depth=19, min_samples_leaf=4, min_samples_split=7, n_estimators=90; total time=   0.2s\n",
      "[CV] END criterion=gini, max_depth=19, min_samples_leaf=4, min_samples_split=7, n_estimators=90; total time=   0.2s\n",
      "[CV] END criterion=gini, max_depth=19, min_samples_leaf=4, min_samples_split=7, n_estimators=90; total time=   0.2s\n",
      "[CV] END criterion=gini, max_depth=3, min_samples_leaf=3, min_samples_split=7, n_estimators=100; total time=   0.2s\n",
      "[CV] END criterion=gini, max_depth=3, min_samples_leaf=3, min_samples_split=7, n_estimators=100; total time=   0.2s\n",
      "[CV] END criterion=gini, max_depth=3, min_samples_leaf=3, min_samples_split=7, n_estimators=100; total time=   0.2s\n",
      "[CV] END criterion=gini, max_depth=3, min_samples_leaf=3, min_samples_split=7, n_estimators=100; total time=   0.2s\n",
      "[CV] END criterion=gini, max_depth=3, min_samples_leaf=3, min_samples_split=7, n_estimators=100; total time=   0.2s\n",
      "[CV] END criterion=gini, max_depth=16, min_samples_leaf=8, min_samples_split=4, n_estimators=200; total time=   0.3s\n",
      "[CV] END criterion=gini, max_depth=16, min_samples_leaf=8, min_samples_split=4, n_estimators=200; total time=   0.3s\n",
      "[CV] END criterion=gini, max_depth=16, min_samples_leaf=8, min_samples_split=4, n_estimators=200; total time=   0.3s\n",
      "[CV] END criterion=gini, max_depth=16, min_samples_leaf=8, min_samples_split=4, n_estimators=200; total time=   0.3s\n",
      "[CV] END criterion=gini, max_depth=16, min_samples_leaf=8, min_samples_split=4, n_estimators=200; total time=   0.3s\n"
     ]
    },
    {
     "data": {
      "text/plain": [
       "RandomizedSearchCV(cv=5, estimator=RandomForestClassifier(),\n",
       "                   param_distributions={'criterion': ['gini'],\n",
       "                                        'max_depth': range(2, 20),\n",
       "                                        'min_samples_leaf': range(1, 10),\n",
       "                                        'min_samples_split': range(2, 10),\n",
       "                                        'n_estimators': [90, 100, 115, 130,\n",
       "                                                         200]},\n",
       "                   random_state=42, verbose=2)"
      ]
     },
     "execution_count": 27,
     "metadata": {},
     "output_type": "execute_result"
    }
   ],
   "source": [
    "from sklearn.model_selection import RandomizedSearchCV\n",
    "n_estimators = [90,100,115,130, 200]\n",
    "max_depth = range(2,20,1)\n",
    "min_samples_split = range(2,10,1)\n",
    "min_samples_leaf = range(1,10,1)\n",
    "criterion = ['gini']\n",
    "\n",
    "param = dict(n_estimators = n_estimators, max_depth = max_depth,  \n",
    "              min_samples_split = min_samples_split, \n",
    "             min_samples_leaf = min_samples_leaf,\n",
    "             criterion = criterion)\n",
    "rfc_random = RandomizedSearchCV(estimator = rfc, param_distributions = param, cv = 5, verbose=2, random_state=42)\n",
    "rfc_random.fit(X_train_rs, y_train_rs)"
   ]
  },
  {
   "cell_type": "code",
   "execution_count": 28,
   "id": "bf1e0eb6",
   "metadata": {
    "execution": {
     "iopub.execute_input": "2022-08-10T05:38:06.608278Z",
     "iopub.status.busy": "2022-08-10T05:38:06.607880Z",
     "iopub.status.idle": "2022-08-10T05:38:06.638866Z",
     "shell.execute_reply": "2022-08-10T05:38:06.637918Z"
    },
    "papermill": {
     "duration": 0.06221,
     "end_time": "2022-08-10T05:38:06.641351",
     "exception": false,
     "start_time": "2022-08-10T05:38:06.579141",
     "status": "completed"
    },
    "tags": []
   },
   "outputs": [
    {
     "name": "stdout",
     "output_type": "stream",
     "text": [
      "[[54 29]\n",
      " [ 9 72]]\n",
      "The accuracy is: 0.7683\n",
      "The classification report is:\n",
      "              precision    recall  f1-score   support\n",
      "\n",
      "           0       0.86      0.65      0.74        83\n",
      "           1       0.71      0.89      0.79        81\n",
      "\n",
      "    accuracy                           0.77       164\n",
      "   macro avg       0.79      0.77      0.77       164\n",
      "weighted avg       0.79      0.77      0.77       164\n",
      "\n"
     ]
    }
   ],
   "source": [
    "y_pred_rfc_random = rfc_random.predict(X_test_rs)\n",
    "print(confusion_matrix(y_test_rs,y_pred_rfc_random))\n",
    "print('The accuracy is: {:.4f}'.format(accuracy_score(y_test_rs,y_pred_rfc_random)))\n",
    "print('The classification report is:\\n{:}'.format(classification_report(y_test_rs,y_pred_rfc_random)))"
   ]
  },
  {
   "cell_type": "markdown",
   "id": "4b996701",
   "metadata": {
    "papermill": {
     "duration": 0.026505,
     "end_time": "2022-08-10T05:38:06.694205",
     "exception": false,
     "start_time": "2022-08-10T05:38:06.667700",
     "status": "completed"
    },
    "tags": []
   },
   "source": [
    "Decision tress is best model."
   ]
  },
  {
   "cell_type": "markdown",
   "id": "aa767016",
   "metadata": {
    "papermill": {
     "duration": 0.02685,
     "end_time": "2022-08-10T05:38:06.748262",
     "exception": false,
     "start_time": "2022-08-10T05:38:06.721412",
     "status": "completed"
    },
    "tags": []
   },
   "source": []
  }
 ],
 "metadata": {
  "kernelspec": {
   "display_name": "Python 3",
   "language": "python",
   "name": "python3"
  },
  "language_info": {
   "codemirror_mode": {
    "name": "ipython",
    "version": 3
   },
   "file_extension": ".py",
   "mimetype": "text/x-python",
   "name": "python",
   "nbconvert_exporter": "python",
   "pygments_lexer": "ipython3",
   "version": "3.7.12"
  },
  "papermill": {
   "default_parameters": {},
   "duration": 28.44542,
   "end_time": "2022-08-10T05:38:07.798515",
   "environment_variables": {},
   "exception": null,
   "input_path": "__notebook__.ipynb",
   "output_path": "__notebook__.ipynb",
   "parameters": {},
   "start_time": "2022-08-10T05:37:39.353095",
   "version": "2.3.4"
  }
 },
 "nbformat": 4,
 "nbformat_minor": 5
}
